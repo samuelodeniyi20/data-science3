{
 "cells": [
  {
   "cell_type": "code",
   "execution_count": null,
   "metadata": {},
   "outputs": [],
   "source": [
    "import numpy as np\n",
    "import pandas as pd\n",
    "import seaborn as sns"
   ]
  },
  {
   "cell_type": "markdown",
   "metadata": {},
   "source": [
    "# readding the file"
   ]
  },
  {
   "cell_type": "code",
   "execution_count": null,
   "metadata": {},
   "outputs": [],
   "source": [
    "\n",
    "df = pd.read_csv('loan_data_1.csv')"
   ]
  },
  {
   "cell_type": "code",
   "execution_count": 315,
   "metadata": {},
   "outputs": [
    {
     "data": {
      "text/html": [
       "<div>\n",
       "<style scoped>\n",
       "    .dataframe tbody tr th:only-of-type {\n",
       "        vertical-align: middle;\n",
       "    }\n",
       "\n",
       "    .dataframe tbody tr th {\n",
       "        vertical-align: top;\n",
       "    }\n",
       "\n",
       "    .dataframe thead th {\n",
       "        text-align: right;\n",
       "    }\n",
       "</style>\n",
       "<table border=\"1\" class=\"dataframe\">\n",
       "  <thead>\n",
       "    <tr style=\"text-align: right;\">\n",
       "      <th></th>\n",
       "      <th>Unnamed: 0</th>\n",
       "      <th>Loan_ID</th>\n",
       "      <th>Gender</th>\n",
       "      <th>Married</th>\n",
       "      <th>Dependents</th>\n",
       "      <th>Education</th>\n",
       "      <th>Self_Employed</th>\n",
       "      <th>ApplicantIncome</th>\n",
       "      <th>CoapplicantIncome</th>\n",
       "      <th>LoanAmount</th>\n",
       "      <th>Loan_Amount_Term</th>\n",
       "      <th>Credit_History</th>\n",
       "      <th>Property_Area</th>\n",
       "      <th>Loan_Status</th>\n",
       "    </tr>\n",
       "  </thead>\n",
       "  <tbody>\n",
       "    <tr>\n",
       "      <th>0</th>\n",
       "      <td>0</td>\n",
       "      <td>LP001003</td>\n",
       "      <td>Male</td>\n",
       "      <td>Yes</td>\n",
       "      <td>1</td>\n",
       "      <td>Graduate</td>\n",
       "      <td>No</td>\n",
       "      <td>4583.0</td>\n",
       "      <td>1508.0</td>\n",
       "      <td>128.0</td>\n",
       "      <td>360.0</td>\n",
       "      <td>1.0</td>\n",
       "      <td>Rural</td>\n",
       "      <td>N</td>\n",
       "    </tr>\n",
       "    <tr>\n",
       "      <th>1</th>\n",
       "      <td>1</td>\n",
       "      <td>LP001005</td>\n",
       "      <td>Male</td>\n",
       "      <td>Yes</td>\n",
       "      <td>0</td>\n",
       "      <td>Graduate</td>\n",
       "      <td>Yes</td>\n",
       "      <td>3000.0</td>\n",
       "      <td>0.0</td>\n",
       "      <td>66.0</td>\n",
       "      <td>360.0</td>\n",
       "      <td>1.0</td>\n",
       "      <td>Urban</td>\n",
       "      <td>Y</td>\n",
       "    </tr>\n",
       "    <tr>\n",
       "      <th>2</th>\n",
       "      <td>2</td>\n",
       "      <td>LP001006</td>\n",
       "      <td>Male</td>\n",
       "      <td>Yes</td>\n",
       "      <td>0</td>\n",
       "      <td>Not Graduate</td>\n",
       "      <td>No</td>\n",
       "      <td>2583.0</td>\n",
       "      <td>2358.0</td>\n",
       "      <td>120.0</td>\n",
       "      <td>360.0</td>\n",
       "      <td>1.0</td>\n",
       "      <td>Urban</td>\n",
       "      <td>Y</td>\n",
       "    </tr>\n",
       "    <tr>\n",
       "      <th>3</th>\n",
       "      <td>3</td>\n",
       "      <td>LP001008</td>\n",
       "      <td>Male</td>\n",
       "      <td>No</td>\n",
       "      <td>0</td>\n",
       "      <td>Graduate</td>\n",
       "      <td>No</td>\n",
       "      <td>6000.0</td>\n",
       "      <td>0.0</td>\n",
       "      <td>141.0</td>\n",
       "      <td>360.0</td>\n",
       "      <td>1.0</td>\n",
       "      <td>Urban</td>\n",
       "      <td>Y</td>\n",
       "    </tr>\n",
       "    <tr>\n",
       "      <th>4</th>\n",
       "      <td>4</td>\n",
       "      <td>LP001013</td>\n",
       "      <td>Male</td>\n",
       "      <td>Yes</td>\n",
       "      <td>0</td>\n",
       "      <td>Not Graduate</td>\n",
       "      <td>No</td>\n",
       "      <td>2333.0</td>\n",
       "      <td>1516.0</td>\n",
       "      <td>95.0</td>\n",
       "      <td>360.0</td>\n",
       "      <td>1.0</td>\n",
       "      <td>Urban</td>\n",
       "      <td>Y</td>\n",
       "    </tr>\n",
       "  </tbody>\n",
       "</table>\n",
       "</div>"
      ],
      "text/plain": [
       "   Unnamed: 0   Loan_ID Gender Married Dependents     Education Self_Employed  \\\n",
       "0           0  LP001003   Male     Yes          1      Graduate            No   \n",
       "1           1  LP001005   Male     Yes          0      Graduate           Yes   \n",
       "2           2  LP001006   Male     Yes          0  Not Graduate            No   \n",
       "3           3  LP001008   Male      No          0      Graduate            No   \n",
       "4           4  LP001013   Male     Yes          0  Not Graduate            No   \n",
       "\n",
       "   ApplicantIncome  CoapplicantIncome  LoanAmount  Loan_Amount_Term  \\\n",
       "0           4583.0             1508.0       128.0             360.0   \n",
       "1           3000.0                0.0        66.0             360.0   \n",
       "2           2583.0             2358.0       120.0             360.0   \n",
       "3           6000.0                0.0       141.0             360.0   \n",
       "4           2333.0             1516.0        95.0             360.0   \n",
       "\n",
       "   Credit_History Property_Area Loan_Status  \n",
       "0             1.0         Rural           N  \n",
       "1             1.0         Urban           Y  \n",
       "2             1.0         Urban           Y  \n",
       "3             1.0         Urban           Y  \n",
       "4             1.0         Urban           Y  "
      ]
     },
     "execution_count": 315,
     "metadata": {},
     "output_type": "execute_result"
    }
   ],
   "source": [
    "df.head()"
   ]
  },
  {
   "cell_type": "code",
   "execution_count": 316,
   "metadata": {},
   "outputs": [
    {
     "data": {
      "text/plain": [
       "(381, 14)"
      ]
     },
     "execution_count": 316,
     "metadata": {},
     "output_type": "execute_result"
    }
   ],
   "source": [
    "df.shape"
   ]
  },
  {
   "cell_type": "markdown",
   "metadata": {},
   "source": [
    "# loooking at the EDD"
   ]
  },
  {
   "cell_type": "code",
   "execution_count": null,
   "metadata": {},
   "outputs": [],
   "source": [
    "\n",
    "df.describe()"
   ]
  },
  {
   "cell_type": "code",
   "execution_count": 320,
   "metadata": {},
   "outputs": [
    {
     "name": "stdout",
     "output_type": "stream",
     "text": [
      "<class 'pandas.core.frame.DataFrame'>\n",
      "RangeIndex: 381 entries, 0 to 380\n",
      "Data columns (total 14 columns):\n",
      " #   Column             Non-Null Count  Dtype  \n",
      "---  ------             --------------  -----  \n",
      " 0   Unnamed: 0         381 non-null    int64  \n",
      " 1   Loan_ID            381 non-null    object \n",
      " 2   Gender             376 non-null    object \n",
      " 3   Married            381 non-null    object \n",
      " 4   Dependents         373 non-null    object \n",
      " 5   Education          375 non-null    object \n",
      " 6   Self_Employed      360 non-null    object \n",
      " 7   ApplicantIncome    369 non-null    float64\n",
      " 8   CoapplicantIncome  363 non-null    float64\n",
      " 9   LoanAmount         373 non-null    float64\n",
      " 10  Loan_Amount_Term   370 non-null    float64\n",
      " 11  Credit_History     351 non-null    float64\n",
      " 12  Property_Area      381 non-null    object \n",
      " 13  Loan_Status        381 non-null    object \n",
      "dtypes: float64(5), int64(1), object(8)\n",
      "memory usage: 41.8+ KB\n"
     ]
    }
   ],
   "source": [
    "df.info()"
   ]
  },
  {
   "cell_type": "markdown",
   "metadata": {},
   "source": [
    "# handling missing values "
   ]
  },
  {
   "cell_type": "code",
   "execution_count": 321,
   "metadata": {},
   "outputs": [
    {
     "data": {
      "text/html": [
       "<div>\n",
       "<style scoped>\n",
       "    .dataframe tbody tr th:only-of-type {\n",
       "        vertical-align: middle;\n",
       "    }\n",
       "\n",
       "    .dataframe tbody tr th {\n",
       "        vertical-align: top;\n",
       "    }\n",
       "\n",
       "    .dataframe thead th {\n",
       "        text-align: right;\n",
       "    }\n",
       "</style>\n",
       "<table border=\"1\" class=\"dataframe\">\n",
       "  <thead>\n",
       "    <tr style=\"text-align: right;\">\n",
       "      <th></th>\n",
       "      <th>Unnamed: 0</th>\n",
       "      <th>Loan_ID</th>\n",
       "      <th>Gender</th>\n",
       "      <th>Married</th>\n",
       "      <th>Dependents</th>\n",
       "      <th>Education</th>\n",
       "      <th>Self_Employed</th>\n",
       "      <th>ApplicantIncome</th>\n",
       "      <th>CoapplicantIncome</th>\n",
       "      <th>LoanAmount</th>\n",
       "      <th>Loan_Amount_Term</th>\n",
       "      <th>Credit_History</th>\n",
       "      <th>Property_Area</th>\n",
       "      <th>Loan_Status</th>\n",
       "    </tr>\n",
       "  </thead>\n",
       "  <tbody>\n",
       "    <tr>\n",
       "      <th>0</th>\n",
       "      <td>0</td>\n",
       "      <td>LP001003</td>\n",
       "      <td>Male</td>\n",
       "      <td>Yes</td>\n",
       "      <td>1</td>\n",
       "      <td>Graduate</td>\n",
       "      <td>No</td>\n",
       "      <td>4583.0</td>\n",
       "      <td>1508.0</td>\n",
       "      <td>128.0</td>\n",
       "      <td>360.0</td>\n",
       "      <td>1.0</td>\n",
       "      <td>Rural</td>\n",
       "      <td>N</td>\n",
       "    </tr>\n",
       "    <tr>\n",
       "      <th>1</th>\n",
       "      <td>1</td>\n",
       "      <td>LP001005</td>\n",
       "      <td>Male</td>\n",
       "      <td>Yes</td>\n",
       "      <td>0</td>\n",
       "      <td>Graduate</td>\n",
       "      <td>Yes</td>\n",
       "      <td>3000.0</td>\n",
       "      <td>0.0</td>\n",
       "      <td>66.0</td>\n",
       "      <td>360.0</td>\n",
       "      <td>1.0</td>\n",
       "      <td>Urban</td>\n",
       "      <td>Y</td>\n",
       "    </tr>\n",
       "    <tr>\n",
       "      <th>2</th>\n",
       "      <td>2</td>\n",
       "      <td>LP001006</td>\n",
       "      <td>Male</td>\n",
       "      <td>Yes</td>\n",
       "      <td>0</td>\n",
       "      <td>Not Graduate</td>\n",
       "      <td>No</td>\n",
       "      <td>2583.0</td>\n",
       "      <td>2358.0</td>\n",
       "      <td>120.0</td>\n",
       "      <td>360.0</td>\n",
       "      <td>1.0</td>\n",
       "      <td>Urban</td>\n",
       "      <td>Y</td>\n",
       "    </tr>\n",
       "    <tr>\n",
       "      <th>3</th>\n",
       "      <td>3</td>\n",
       "      <td>LP001008</td>\n",
       "      <td>Male</td>\n",
       "      <td>No</td>\n",
       "      <td>0</td>\n",
       "      <td>Graduate</td>\n",
       "      <td>No</td>\n",
       "      <td>6000.0</td>\n",
       "      <td>0.0</td>\n",
       "      <td>141.0</td>\n",
       "      <td>360.0</td>\n",
       "      <td>1.0</td>\n",
       "      <td>Urban</td>\n",
       "      <td>Y</td>\n",
       "    </tr>\n",
       "    <tr>\n",
       "      <th>4</th>\n",
       "      <td>4</td>\n",
       "      <td>LP001013</td>\n",
       "      <td>Male</td>\n",
       "      <td>Yes</td>\n",
       "      <td>0</td>\n",
       "      <td>Not Graduate</td>\n",
       "      <td>No</td>\n",
       "      <td>2333.0</td>\n",
       "      <td>1516.0</td>\n",
       "      <td>95.0</td>\n",
       "      <td>360.0</td>\n",
       "      <td>1.0</td>\n",
       "      <td>Urban</td>\n",
       "      <td>Y</td>\n",
       "    </tr>\n",
       "  </tbody>\n",
       "</table>\n",
       "</div>"
      ],
      "text/plain": [
       "   Unnamed: 0   Loan_ID Gender Married Dependents     Education Self_Employed  \\\n",
       "0           0  LP001003   Male     Yes          1      Graduate            No   \n",
       "1           1  LP001005   Male     Yes          0      Graduate           Yes   \n",
       "2           2  LP001006   Male     Yes          0  Not Graduate            No   \n",
       "3           3  LP001008   Male      No          0      Graduate            No   \n",
       "4           4  LP001013   Male     Yes          0  Not Graduate            No   \n",
       "\n",
       "   ApplicantIncome  CoapplicantIncome  LoanAmount  Loan_Amount_Term  \\\n",
       "0           4583.0             1508.0       128.0             360.0   \n",
       "1           3000.0                0.0        66.0             360.0   \n",
       "2           2583.0             2358.0       120.0             360.0   \n",
       "3           6000.0                0.0       141.0             360.0   \n",
       "4           2333.0             1516.0        95.0             360.0   \n",
       "\n",
       "   Credit_History Property_Area Loan_Status  \n",
       "0             1.0         Rural           N  \n",
       "1             1.0         Urban           Y  \n",
       "2             1.0         Urban           Y  \n",
       "3             1.0         Urban           Y  \n",
       "4             1.0         Urban           Y  "
      ]
     },
     "execution_count": 321,
     "metadata": {},
     "output_type": "execute_result"
    }
   ],
   "source": [
    "columns_to_fill = [\"ApplicantIncome\",\"CoapplicantIncome\",\"LoanAmount\",\"Loan_Amount_Term\", \"Credit_History\"]\n",
    "for col in columns_to_fill:\n",
    "    df[col] = df[col].fillna(df[col].mean())\n",
    "    \n",
    "df.head()"
   ]
  },
  {
   "cell_type": "markdown",
   "metadata": {},
   "source": [
    "# showing summary of our dataset"
   ]
  },
  {
   "cell_type": "code",
   "execution_count": 325,
   "metadata": {},
   "outputs": [
    {
     "name": "stdout",
     "output_type": "stream",
     "text": [
      "<class 'pandas.core.frame.DataFrame'>\n",
      "RangeIndex: 381 entries, 0 to 380\n",
      "Data columns (total 14 columns):\n",
      " #   Column             Non-Null Count  Dtype  \n",
      "---  ------             --------------  -----  \n",
      " 0   Unnamed: 0         381 non-null    int64  \n",
      " 1   Loan_ID            381 non-null    object \n",
      " 2   Gender             376 non-null    object \n",
      " 3   Married            381 non-null    object \n",
      " 4   Dependents         373 non-null    object \n",
      " 5   Education          375 non-null    object \n",
      " 6   Self_Employed      360 non-null    object \n",
      " 7   ApplicantIncome    381 non-null    float64\n",
      " 8   CoapplicantIncome  381 non-null    float64\n",
      " 9   LoanAmount         381 non-null    float64\n",
      " 10  Loan_Amount_Term   381 non-null    float64\n",
      " 11  Credit_History     381 non-null    float64\n",
      " 12  Property_Area      381 non-null    object \n",
      " 13  Loan_Status        381 non-null    object \n",
      "dtypes: float64(5), int64(1), object(8)\n",
      "memory usage: 41.8+ KB\n"
     ]
    }
   ],
   "source": [
    "df.info()"
   ]
  },
  {
   "cell_type": "code",
   "execution_count": 327,
   "metadata": {},
   "outputs": [
    {
     "data": {
      "text/html": [
       "<div>\n",
       "<style scoped>\n",
       "    .dataframe tbody tr th:only-of-type {\n",
       "        vertical-align: middle;\n",
       "    }\n",
       "\n",
       "    .dataframe tbody tr th {\n",
       "        vertical-align: top;\n",
       "    }\n",
       "\n",
       "    .dataframe thead th {\n",
       "        text-align: right;\n",
       "    }\n",
       "</style>\n",
       "<table border=\"1\" class=\"dataframe\">\n",
       "  <thead>\n",
       "    <tr style=\"text-align: right;\">\n",
       "      <th></th>\n",
       "      <th>Unnamed: 0</th>\n",
       "      <th>Loan_ID</th>\n",
       "      <th>Gender</th>\n",
       "      <th>Married</th>\n",
       "      <th>Dependents</th>\n",
       "      <th>Education</th>\n",
       "      <th>Self_Employed</th>\n",
       "      <th>ApplicantIncome</th>\n",
       "      <th>CoapplicantIncome</th>\n",
       "      <th>LoanAmount</th>\n",
       "      <th>Loan_Amount_Term</th>\n",
       "      <th>Credit_History</th>\n",
       "      <th>Property_Area</th>\n",
       "      <th>Loan_Status</th>\n",
       "    </tr>\n",
       "  </thead>\n",
       "  <tbody>\n",
       "    <tr>\n",
       "      <th>0</th>\n",
       "      <td>0</td>\n",
       "      <td>LP001003</td>\n",
       "      <td>Male</td>\n",
       "      <td>Yes</td>\n",
       "      <td>1</td>\n",
       "      <td>Graduate</td>\n",
       "      <td>No</td>\n",
       "      <td>4583.0</td>\n",
       "      <td>1508.0</td>\n",
       "      <td>128.0</td>\n",
       "      <td>360.0</td>\n",
       "      <td>1.0</td>\n",
       "      <td>Rural</td>\n",
       "      <td>N</td>\n",
       "    </tr>\n",
       "    <tr>\n",
       "      <th>1</th>\n",
       "      <td>1</td>\n",
       "      <td>LP001005</td>\n",
       "      <td>Male</td>\n",
       "      <td>Yes</td>\n",
       "      <td>0</td>\n",
       "      <td>Graduate</td>\n",
       "      <td>Yes</td>\n",
       "      <td>3000.0</td>\n",
       "      <td>0.0</td>\n",
       "      <td>66.0</td>\n",
       "      <td>360.0</td>\n",
       "      <td>1.0</td>\n",
       "      <td>Urban</td>\n",
       "      <td>Y</td>\n",
       "    </tr>\n",
       "    <tr>\n",
       "      <th>2</th>\n",
       "      <td>2</td>\n",
       "      <td>LP001006</td>\n",
       "      <td>Male</td>\n",
       "      <td>Yes</td>\n",
       "      <td>0</td>\n",
       "      <td>Not Graduate</td>\n",
       "      <td>No</td>\n",
       "      <td>2583.0</td>\n",
       "      <td>2358.0</td>\n",
       "      <td>120.0</td>\n",
       "      <td>360.0</td>\n",
       "      <td>1.0</td>\n",
       "      <td>Urban</td>\n",
       "      <td>Y</td>\n",
       "    </tr>\n",
       "    <tr>\n",
       "      <th>3</th>\n",
       "      <td>3</td>\n",
       "      <td>LP001008</td>\n",
       "      <td>Male</td>\n",
       "      <td>No</td>\n",
       "      <td>0</td>\n",
       "      <td>Graduate</td>\n",
       "      <td>No</td>\n",
       "      <td>6000.0</td>\n",
       "      <td>0.0</td>\n",
       "      <td>141.0</td>\n",
       "      <td>360.0</td>\n",
       "      <td>1.0</td>\n",
       "      <td>Urban</td>\n",
       "      <td>Y</td>\n",
       "    </tr>\n",
       "    <tr>\n",
       "      <th>4</th>\n",
       "      <td>4</td>\n",
       "      <td>LP001013</td>\n",
       "      <td>Male</td>\n",
       "      <td>Yes</td>\n",
       "      <td>0</td>\n",
       "      <td>Not Graduate</td>\n",
       "      <td>No</td>\n",
       "      <td>2333.0</td>\n",
       "      <td>1516.0</td>\n",
       "      <td>95.0</td>\n",
       "      <td>360.0</td>\n",
       "      <td>1.0</td>\n",
       "      <td>Urban</td>\n",
       "      <td>Y</td>\n",
       "    </tr>\n",
       "  </tbody>\n",
       "</table>\n",
       "</div>"
      ],
      "text/plain": [
       "   Unnamed: 0   Loan_ID Gender Married Dependents     Education Self_Employed  \\\n",
       "0           0  LP001003   Male     Yes          1      Graduate            No   \n",
       "1           1  LP001005   Male     Yes          0      Graduate           Yes   \n",
       "2           2  LP001006   Male     Yes          0  Not Graduate            No   \n",
       "3           3  LP001008   Male      No          0      Graduate            No   \n",
       "4           4  LP001013   Male     Yes          0  Not Graduate            No   \n",
       "\n",
       "   ApplicantIncome  CoapplicantIncome  LoanAmount  Loan_Amount_Term  \\\n",
       "0           4583.0             1508.0       128.0             360.0   \n",
       "1           3000.0                0.0        66.0             360.0   \n",
       "2           2583.0             2358.0       120.0             360.0   \n",
       "3           6000.0                0.0       141.0             360.0   \n",
       "4           2333.0             1516.0        95.0             360.0   \n",
       "\n",
       "   Credit_History Property_Area Loan_Status  \n",
       "0             1.0         Rural           N  \n",
       "1             1.0         Urban           Y  \n",
       "2             1.0         Urban           Y  \n",
       "3             1.0         Urban           Y  \n",
       "4             1.0         Urban           Y  "
      ]
     },
     "execution_count": 327,
     "metadata": {},
     "output_type": "execute_result"
    }
   ],
   "source": [
    "columns_to_fill = [\"Gender\",\"Dependents\",\"Education\",\"Self_Employed\", ]\n",
    "for col in columns_to_fill:\n",
    "    df[col] = df[col].fillna(df[col].mode())\n",
    "    \n",
    "df.head()"
   ]
  },
  {
   "cell_type": "code",
   "execution_count": 329,
   "metadata": {},
   "outputs": [
    {
     "name": "stdout",
     "output_type": "stream",
     "text": [
      "<class 'pandas.core.frame.DataFrame'>\n",
      "RangeIndex: 381 entries, 0 to 380\n",
      "Data columns (total 14 columns):\n",
      " #   Column             Non-Null Count  Dtype  \n",
      "---  ------             --------------  -----  \n",
      " 0   Unnamed: 0         381 non-null    int64  \n",
      " 1   Loan_ID            381 non-null    object \n",
      " 2   Gender             376 non-null    object \n",
      " 3   Married            381 non-null    object \n",
      " 4   Dependents         373 non-null    object \n",
      " 5   Education          375 non-null    object \n",
      " 6   Self_Employed      360 non-null    object \n",
      " 7   ApplicantIncome    381 non-null    float64\n",
      " 8   CoapplicantIncome  381 non-null    float64\n",
      " 9   LoanAmount         381 non-null    float64\n",
      " 10  Loan_Amount_Term   381 non-null    float64\n",
      " 11  Credit_History     381 non-null    float64\n",
      " 12  Property_Area      381 non-null    object \n",
      " 13  Loan_Status        381 non-null    object \n",
      "dtypes: float64(5), int64(1), object(8)\n",
      "memory usage: 41.8+ KB\n"
     ]
    }
   ],
   "source": [
    "df.info()"
   ]
  },
  {
   "cell_type": "markdown",
   "metadata": {},
   "source": [
    "# Filling all in column 'gender' with mode (Using because gender is categorical data)"
   ]
  },
  {
   "cell_type": "code",
   "execution_count": null,
   "metadata": {},
   "outputs": [],
   "source": [
    "\n",
    "mOde = df['Gender'].mode()[0]\n",
    "df[ 'Gender'].fillna(mOde, inplace=True)"
   ]
  },
  {
   "cell_type": "code",
   "execution_count": 333,
   "metadata": {},
   "outputs": [
    {
     "data": {
      "text/html": [
       "<div>\n",
       "<style scoped>\n",
       "    .dataframe tbody tr th:only-of-type {\n",
       "        vertical-align: middle;\n",
       "    }\n",
       "\n",
       "    .dataframe tbody tr th {\n",
       "        vertical-align: top;\n",
       "    }\n",
       "\n",
       "    .dataframe thead th {\n",
       "        text-align: right;\n",
       "    }\n",
       "</style>\n",
       "<table border=\"1\" class=\"dataframe\">\n",
       "  <thead>\n",
       "    <tr style=\"text-align: right;\">\n",
       "      <th></th>\n",
       "      <th>Unnamed: 0</th>\n",
       "      <th>ApplicantIncome</th>\n",
       "      <th>CoapplicantIncome</th>\n",
       "      <th>LoanAmount</th>\n",
       "      <th>Loan_Amount_Term</th>\n",
       "      <th>Credit_History</th>\n",
       "    </tr>\n",
       "  </thead>\n",
       "  <tbody>\n",
       "    <tr>\n",
       "      <th>count</th>\n",
       "      <td>381.000000</td>\n",
       "      <td>381.000000</td>\n",
       "      <td>381.000000</td>\n",
       "      <td>381.000000</td>\n",
       "      <td>381.000000</td>\n",
       "      <td>381.000000</td>\n",
       "    </tr>\n",
       "    <tr>\n",
       "      <th>mean</th>\n",
       "      <td>190.000000</td>\n",
       "      <td>3563.422764</td>\n",
       "      <td>1267.005289</td>\n",
       "      <td>104.914209</td>\n",
       "      <td>340.864865</td>\n",
       "      <td>0.837607</td>\n",
       "    </tr>\n",
       "    <tr>\n",
       "      <th>std</th>\n",
       "      <td>110.129469</td>\n",
       "      <td>1404.653023</td>\n",
       "      <td>2330.803149</td>\n",
       "      <td>28.183387</td>\n",
       "      <td>67.549811</td>\n",
       "      <td>0.354459</td>\n",
       "    </tr>\n",
       "    <tr>\n",
       "      <th>min</th>\n",
       "      <td>0.000000</td>\n",
       "      <td>150.000000</td>\n",
       "      <td>0.000000</td>\n",
       "      <td>9.000000</td>\n",
       "      <td>12.000000</td>\n",
       "      <td>0.000000</td>\n",
       "    </tr>\n",
       "    <tr>\n",
       "      <th>25%</th>\n",
       "      <td>95.000000</td>\n",
       "      <td>2600.000000</td>\n",
       "      <td>0.000000</td>\n",
       "      <td>90.000000</td>\n",
       "      <td>360.000000</td>\n",
       "      <td>1.000000</td>\n",
       "    </tr>\n",
       "    <tr>\n",
       "      <th>50%</th>\n",
       "      <td>190.000000</td>\n",
       "      <td>3357.000000</td>\n",
       "      <td>1041.000000</td>\n",
       "      <td>110.000000</td>\n",
       "      <td>360.000000</td>\n",
       "      <td>1.000000</td>\n",
       "    </tr>\n",
       "    <tr>\n",
       "      <th>75%</th>\n",
       "      <td>285.000000</td>\n",
       "      <td>4188.000000</td>\n",
       "      <td>1964.000000</td>\n",
       "      <td>127.000000</td>\n",
       "      <td>360.000000</td>\n",
       "      <td>1.000000</td>\n",
       "    </tr>\n",
       "    <tr>\n",
       "      <th>max</th>\n",
       "      <td>380.000000</td>\n",
       "      <td>9703.000000</td>\n",
       "      <td>33837.000000</td>\n",
       "      <td>150.000000</td>\n",
       "      <td>480.000000</td>\n",
       "      <td>1.000000</td>\n",
       "    </tr>\n",
       "  </tbody>\n",
       "</table>\n",
       "</div>"
      ],
      "text/plain": [
       "       Unnamed: 0  ApplicantIncome  CoapplicantIncome  LoanAmount  \\\n",
       "count  381.000000       381.000000         381.000000  381.000000   \n",
       "mean   190.000000      3563.422764        1267.005289  104.914209   \n",
       "std    110.129469      1404.653023        2330.803149   28.183387   \n",
       "min      0.000000       150.000000           0.000000    9.000000   \n",
       "25%     95.000000      2600.000000           0.000000   90.000000   \n",
       "50%    190.000000      3357.000000        1041.000000  110.000000   \n",
       "75%    285.000000      4188.000000        1964.000000  127.000000   \n",
       "max    380.000000      9703.000000       33837.000000  150.000000   \n",
       "\n",
       "       Loan_Amount_Term  Credit_History  \n",
       "count        381.000000      381.000000  \n",
       "mean         340.864865        0.837607  \n",
       "std           67.549811        0.354459  \n",
       "min           12.000000        0.000000  \n",
       "25%          360.000000        1.000000  \n",
       "50%          360.000000        1.000000  \n",
       "75%          360.000000        1.000000  \n",
       "max          480.000000        1.000000  "
      ]
     },
     "execution_count": 333,
     "metadata": {},
     "output_type": "execute_result"
    }
   ],
   "source": [
    "df.describe()"
   ]
  },
  {
   "cell_type": "code",
   "execution_count": 335,
   "metadata": {},
   "outputs": [
    {
     "name": "stdout",
     "output_type": "stream",
     "text": [
      "<class 'pandas.core.frame.DataFrame'>\n",
      "RangeIndex: 381 entries, 0 to 380\n",
      "Data columns (total 14 columns):\n",
      " #   Column             Non-Null Count  Dtype  \n",
      "---  ------             --------------  -----  \n",
      " 0   Unnamed: 0         381 non-null    int64  \n",
      " 1   Loan_ID            381 non-null    object \n",
      " 2   Gender             381 non-null    object \n",
      " 3   Married            381 non-null    object \n",
      " 4   Dependents         373 non-null    object \n",
      " 5   Education          375 non-null    object \n",
      " 6   Self_Employed      360 non-null    object \n",
      " 7   ApplicantIncome    381 non-null    float64\n",
      " 8   CoapplicantIncome  381 non-null    float64\n",
      " 9   LoanAmount         381 non-null    float64\n",
      " 10  Loan_Amount_Term   381 non-null    float64\n",
      " 11  Credit_History     381 non-null    float64\n",
      " 12  Property_Area      381 non-null    object \n",
      " 13  Loan_Status        381 non-null    object \n",
      "dtypes: float64(5), int64(1), object(8)\n",
      "memory usage: 41.8+ KB\n"
     ]
    }
   ],
   "source": [
    "df.info()"
   ]
  },
  {
   "cell_type": "markdown",
   "metadata": {},
   "source": [
    "# Filling all in column 'Dependents' with mode (Using because Dependents is categorical data)"
   ]
  },
  {
   "cell_type": "code",
   "execution_count": null,
   "metadata": {},
   "outputs": [],
   "source": [
    "\n",
    "mOde = df['Dependents'].mode()[0]\n",
    "df[ 'Dependents'].fillna(mOde, inplace=True)"
   ]
  },
  {
   "cell_type": "code",
   "execution_count": 339,
   "metadata": {},
   "outputs": [
    {
     "name": "stdout",
     "output_type": "stream",
     "text": [
      "<class 'pandas.core.frame.DataFrame'>\n",
      "RangeIndex: 381 entries, 0 to 380\n",
      "Data columns (total 14 columns):\n",
      " #   Column             Non-Null Count  Dtype  \n",
      "---  ------             --------------  -----  \n",
      " 0   Unnamed: 0         381 non-null    int64  \n",
      " 1   Loan_ID            381 non-null    object \n",
      " 2   Gender             381 non-null    object \n",
      " 3   Married            381 non-null    object \n",
      " 4   Dependents         381 non-null    object \n",
      " 5   Education          375 non-null    object \n",
      " 6   Self_Employed      360 non-null    object \n",
      " 7   ApplicantIncome    381 non-null    float64\n",
      " 8   CoapplicantIncome  381 non-null    float64\n",
      " 9   LoanAmount         381 non-null    float64\n",
      " 10  Loan_Amount_Term   381 non-null    float64\n",
      " 11  Credit_History     381 non-null    float64\n",
      " 12  Property_Area      381 non-null    object \n",
      " 13  Loan_Status        381 non-null    object \n",
      "dtypes: float64(5), int64(1), object(8)\n",
      "memory usage: 41.8+ KB\n"
     ]
    }
   ],
   "source": [
    "df.info()"
   ]
  },
  {
   "cell_type": "markdown",
   "metadata": {},
   "source": [
    "# Filling all in column 'Education' with mode (Using because Education is categorical data)"
   ]
  },
  {
   "cell_type": "code",
   "execution_count": null,
   "metadata": {},
   "outputs": [],
   "source": [
    "\n",
    "mOde = df['Education'].mode()[0]\n",
    "df[ 'Education'].fillna(mOde, inplace=True)"
   ]
  },
  {
   "cell_type": "code",
   "execution_count": 343,
   "metadata": {},
   "outputs": [
    {
     "name": "stdout",
     "output_type": "stream",
     "text": [
      "<class 'pandas.core.frame.DataFrame'>\n",
      "RangeIndex: 381 entries, 0 to 380\n",
      "Data columns (total 14 columns):\n",
      " #   Column             Non-Null Count  Dtype  \n",
      "---  ------             --------------  -----  \n",
      " 0   Unnamed: 0         381 non-null    int64  \n",
      " 1   Loan_ID            381 non-null    object \n",
      " 2   Gender             381 non-null    object \n",
      " 3   Married            381 non-null    object \n",
      " 4   Dependents         381 non-null    object \n",
      " 5   Education          381 non-null    object \n",
      " 6   Self_Employed      360 non-null    object \n",
      " 7   ApplicantIncome    381 non-null    float64\n",
      " 8   CoapplicantIncome  381 non-null    float64\n",
      " 9   LoanAmount         381 non-null    float64\n",
      " 10  Loan_Amount_Term   381 non-null    float64\n",
      " 11  Credit_History     381 non-null    float64\n",
      " 12  Property_Area      381 non-null    object \n",
      " 13  Loan_Status        381 non-null    object \n",
      "dtypes: float64(5), int64(1), object(8)\n",
      "memory usage: 41.8+ KB\n"
     ]
    }
   ],
   "source": [
    "df.info()"
   ]
  },
  {
   "cell_type": "markdown",
   "metadata": {},
   "source": [
    "# Filling all in column 'Self_Employed' with mode (Using because Self_Employedis categorical data)"
   ]
  },
  {
   "cell_type": "code",
   "execution_count": null,
   "metadata": {},
   "outputs": [],
   "source": [
    " mOde = df['Self_Employed'].mode()[0]\n",
    "df[ 'Self_Employed'].fillna(mOde, inplace=True)"
   ]
  },
  {
   "cell_type": "markdown",
   "metadata": {},
   "source": [
    "df.info()"
   ]
  },
  {
   "cell_type": "markdown",
   "metadata": {},
   "source": [
    "# checking for outliers"
   ]
  },
  {
   "cell_type": "code",
   "execution_count": 204,
   "metadata": {},
   "outputs": [
    {
     "name": "stdout",
     "output_type": "stream",
     "text": [
      "outliers in Unnamed: 0 : \n",
      " Empty DataFrame\n",
      "Columns: [Unnamed: 0, Loan_ID, Gender, Married, Dependents, Education, Self_Employed, ApplicantIncome, CoapplicantIncome, LoanAmount, Loan_Amount_Term, Credit_History, Property_Area, Loan_Status]\n",
      "Index: [] \n",
      "\n",
      "outliers in ApplicantIncome : \n",
      "      Unnamed: 0   Loan_ID  Gender Married Dependents Education Self_Employed  \\\n",
      "99           99  LP001572    Male     Yes          0  Graduate            No   \n",
      "153         153  LP001814    Male     Yes          2  Graduate            No   \n",
      "235         235  LP002219    Male     Yes         3+  Graduate            No   \n",
      "275         275  LP002377  Female      No          1  Graduate           Yes   \n",
      "\n",
      "     ApplicantIncome  CoapplicantIncome  LoanAmount  Loan_Amount_Term  \\\n",
      "99            9323.0                0.0        75.0             180.0   \n",
      "153           9703.0                0.0       112.0             360.0   \n",
      "235           8750.0             4996.0       130.0             360.0   \n",
      "275           8624.0                0.0       150.0             360.0   \n",
      "\n",
      "     Credit_History Property_Area Loan_Status  \n",
      "99              1.0         Urban           Y  \n",
      "153             1.0         Urban           Y  \n",
      "235             1.0         Rural           Y  \n",
      "275             1.0     Semiurban           Y   \n",
      "\n",
      "outliers in CoapplicantIncome : \n",
      "      Unnamed: 0   Loan_ID  Gender Married Dependents Education Self_Employed  \\\n",
      "79           79  LP001431  Female      No          0  Graduate            No   \n",
      "256         256  LP002297    Male      No          0  Graduate            No   \n",
      "364         364  LP002893    Male      No          0  Graduate            No   \n",
      "\n",
      "     ApplicantIncome  CoapplicantIncome  LoanAmount  Loan_Amount_Term  \\\n",
      "79            2137.0             8980.0       137.0             360.0   \n",
      "256           2500.0            20000.0       103.0             360.0   \n",
      "364           1836.0            33837.0        90.0             360.0   \n",
      "\n",
      "     Credit_History Property_Area Loan_Status  \n",
      "79              0.0     Semiurban           Y  \n",
      "256             1.0     Semiurban           Y  \n",
      "364             1.0         Urban           N   \n",
      "\n",
      "outliers in LoanAmount : \n",
      "      Unnamed: 0   Loan_ID  Gender Married Dependents Education Self_Employed  \\\n",
      "8             8  LP001030    Male     Yes          2  Graduate            No   \n",
      "357         357  LP002840  Female      No          0  Graduate            No   \n",
      "\n",
      "     ApplicantIncome  CoapplicantIncome  LoanAmount  Loan_Amount_Term  \\\n",
      "8             1299.0             1086.0        17.0             120.0   \n",
      "357           2378.0                0.0         9.0             360.0   \n",
      "\n",
      "     Credit_History Property_Area Loan_Status  \n",
      "8               1.0         Urban           Y  \n",
      "357             1.0         Urban           N   \n",
      "\n",
      "outliers in Loan_Amount_Term : \n",
      "      Unnamed: 0   Loan_ID  Gender Married Dependents     Education  \\\n",
      "8             8  LP001030    Male     Yes          2      Graduate   \n",
      "49           49  LP001238    Male     Yes         3+  Not Graduate   \n",
      "65           65  LP001325    Male      No          0  Not Graduate   \n",
      "84           84  LP001482    Male     Yes          0      Graduate   \n",
      "199         199  LP002008    Male     Yes          2      Graduate   \n",
      "313         313  LP002586  Female     Yes          1      Graduate   \n",
      "315         315  LP002588    Male     Yes          0      Graduate   \n",
      "345         345  LP002768    Male      No          0  Not Graduate   \n",
      "360         360  LP002868    Male     Yes          2      Graduate   \n",
      "\n",
      "    Self_Employed  ApplicantIncome  CoapplicantIncome  LoanAmount  \\\n",
      "8              No           1299.0             1086.0        17.0   \n",
      "49            Yes           7100.0                0.0       125.0   \n",
      "65             No           3620.0                0.0        25.0   \n",
      "84            Yes           3459.0                0.0        25.0   \n",
      "199           Yes           5746.0                0.0       144.0   \n",
      "313            No           3326.0              913.0       105.0   \n",
      "315            No           4625.0             2857.0       111.0   \n",
      "345            No           3358.0                0.0        80.0   \n",
      "360            No           3159.0              461.0       108.0   \n",
      "\n",
      "     Loan_Amount_Term  Credit_History Property_Area Loan_Status  \n",
      "8               120.0        1.000000         Urban           Y  \n",
      "49               60.0        1.000000         Urban           Y  \n",
      "65              120.0        1.000000     Semiurban           Y  \n",
      "84              120.0        1.000000     Semiurban           Y  \n",
      "199              84.0        0.837607         Rural           Y  \n",
      "313              84.0        1.000000     Semiurban           Y  \n",
      "315              12.0        0.837607         Urban           Y  \n",
      "345              36.0        1.000000     Semiurban           N  \n",
      "360              84.0        1.000000         Urban           Y   \n",
      "\n",
      "outliers in Credit_History : \n",
      " Empty DataFrame\n",
      "Columns: [Unnamed: 0, Loan_ID, Gender, Married, Dependents, Education, Self_Employed, ApplicantIncome, CoapplicantIncome, LoanAmount, Loan_Amount_Term, Credit_History, Property_Area, Loan_Status]\n",
      "Index: [] \n",
      "\n"
     ]
    }
   ],
   "source": [
    "for col in df.select_dtypes(include = ['int64' , 'float64']).columns:\n",
    "    z_scores = (df[col] - df[col].mean())/ df[col].std()\n",
    "    outliers = df[np.abs(z_scores)>3]\n",
    "    print(f\"outliers in {col} : \\n {outliers} \\n\")"
   ]
  },
  {
   "cell_type": "markdown",
   "metadata": {},
   "source": [
    "# handling outliers"
   ]
  },
  {
   "cell_type": "code",
   "execution_count": 358,
   "metadata": {},
   "outputs": [],
   "source": [
    "\n",
    "for col in df.select_dtypes(include=['int64', 'float64']).columns:\n",
    "    Q1 = df[col].quantile(0.25)\n",
    "    Q3 = df[col].quantile(0.75)\n",
    "    IQR = Q3 - Q1\n",
    "    lower_bound = Q1 - 1.5 * IQR\n",
    "    upper_bound = Q3 + 1.5 * IQR\n",
    "    df[col] = np.where(df[col] > upper_bound, upper_bound, df[col])\n",
    "    df[col] = np.where(df[col] < lower_bound, lower_bound, df[col])\n"
   ]
  },
  {
   "cell_type": "markdown",
   "metadata": {},
   "source": [
    "# checking if there are outliers"
   ]
  },
  {
   "cell_type": "code",
   "execution_count": 208,
   "metadata": {},
   "outputs": [
    {
     "name": "stdout",
     "output_type": "stream",
     "text": [
      "outliers in Unnamed: 0 : \n",
      " Empty DataFrame\n",
      "Columns: [Unnamed: 0, Loan_ID, Gender, Married, Dependents, Education, Self_Employed, ApplicantIncome, CoapplicantIncome, LoanAmount, Loan_Amount_Term, Credit_History, Property_Area, Loan_Status]\n",
      "Index: [] \n",
      "\n",
      "outliers in ApplicantIncome : \n",
      " Empty DataFrame\n",
      "Columns: [Unnamed: 0, Loan_ID, Gender, Married, Dependents, Education, Self_Employed, ApplicantIncome, CoapplicantIncome, LoanAmount, Loan_Amount_Term, Credit_History, Property_Area, Loan_Status]\n",
      "Index: [] \n",
      "\n",
      "outliers in CoapplicantIncome : \n",
      " Empty DataFrame\n",
      "Columns: [Unnamed: 0, Loan_ID, Gender, Married, Dependents, Education, Self_Employed, ApplicantIncome, CoapplicantIncome, LoanAmount, Loan_Amount_Term, Credit_History, Property_Area, Loan_Status]\n",
      "Index: [] \n",
      "\n",
      "outliers in LoanAmount : \n",
      " Empty DataFrame\n",
      "Columns: [Unnamed: 0, Loan_ID, Gender, Married, Dependents, Education, Self_Employed, ApplicantIncome, CoapplicantIncome, LoanAmount, Loan_Amount_Term, Credit_History, Property_Area, Loan_Status]\n",
      "Index: [] \n",
      "\n",
      "outliers in Loan_Amount_Term : \n",
      " Empty DataFrame\n",
      "Columns: [Unnamed: 0, Loan_ID, Gender, Married, Dependents, Education, Self_Employed, ApplicantIncome, CoapplicantIncome, LoanAmount, Loan_Amount_Term, Credit_History, Property_Area, Loan_Status]\n",
      "Index: [] \n",
      "\n",
      "outliers in Credit_History : \n",
      " Empty DataFrame\n",
      "Columns: [Unnamed: 0, Loan_ID, Gender, Married, Dependents, Education, Self_Employed, ApplicantIncome, CoapplicantIncome, LoanAmount, Loan_Amount_Term, Credit_History, Property_Area, Loan_Status]\n",
      "Index: [] \n",
      "\n"
     ]
    }
   ],
   "source": [
    "for col in df.select_dtypes(include = ['int64' , 'float64']).columns:\n",
    "    z_scores = (df[col] - df[col].mean())/ df[col].std()\n",
    "    outliers = df[np.abs(z_scores)>3]\n",
    "    print(f\"outliers in {col} : \\n {outliers} \\n\")"
   ]
  },
  {
   "cell_type": "code",
   "execution_count": 360,
   "metadata": {},
   "outputs": [
    {
     "data": {
      "text/html": [
       "<div>\n",
       "<style scoped>\n",
       "    .dataframe tbody tr th:only-of-type {\n",
       "        vertical-align: middle;\n",
       "    }\n",
       "\n",
       "    .dataframe tbody tr th {\n",
       "        vertical-align: top;\n",
       "    }\n",
       "\n",
       "    .dataframe thead th {\n",
       "        text-align: right;\n",
       "    }\n",
       "</style>\n",
       "<table border=\"1\" class=\"dataframe\">\n",
       "  <thead>\n",
       "    <tr style=\"text-align: right;\">\n",
       "      <th></th>\n",
       "      <th>Unnamed: 0</th>\n",
       "      <th>Loan_ID</th>\n",
       "      <th>Gender</th>\n",
       "      <th>Married</th>\n",
       "      <th>Dependents</th>\n",
       "      <th>Education</th>\n",
       "      <th>Self_Employed</th>\n",
       "      <th>ApplicantIncome</th>\n",
       "      <th>CoapplicantIncome</th>\n",
       "      <th>LoanAmount</th>\n",
       "      <th>Loan_Amount_Term</th>\n",
       "      <th>Credit_History</th>\n",
       "      <th>Property_Area</th>\n",
       "      <th>Loan_Status</th>\n",
       "    </tr>\n",
       "  </thead>\n",
       "  <tbody>\n",
       "    <tr>\n",
       "      <th>0</th>\n",
       "      <td>0.0</td>\n",
       "      <td>LP001003</td>\n",
       "      <td>Male</td>\n",
       "      <td>Yes</td>\n",
       "      <td>1</td>\n",
       "      <td>Graduate</td>\n",
       "      <td>No</td>\n",
       "      <td>4583.0</td>\n",
       "      <td>1508.0</td>\n",
       "      <td>128.0</td>\n",
       "      <td>360.0</td>\n",
       "      <td>1.0</td>\n",
       "      <td>Rural</td>\n",
       "      <td>N</td>\n",
       "    </tr>\n",
       "    <tr>\n",
       "      <th>1</th>\n",
       "      <td>1.0</td>\n",
       "      <td>LP001005</td>\n",
       "      <td>Male</td>\n",
       "      <td>Yes</td>\n",
       "      <td>0</td>\n",
       "      <td>Graduate</td>\n",
       "      <td>Yes</td>\n",
       "      <td>3000.0</td>\n",
       "      <td>0.0</td>\n",
       "      <td>66.0</td>\n",
       "      <td>360.0</td>\n",
       "      <td>1.0</td>\n",
       "      <td>Urban</td>\n",
       "      <td>Y</td>\n",
       "    </tr>\n",
       "    <tr>\n",
       "      <th>2</th>\n",
       "      <td>2.0</td>\n",
       "      <td>LP001006</td>\n",
       "      <td>Male</td>\n",
       "      <td>Yes</td>\n",
       "      <td>0</td>\n",
       "      <td>Not Graduate</td>\n",
       "      <td>No</td>\n",
       "      <td>2583.0</td>\n",
       "      <td>2358.0</td>\n",
       "      <td>120.0</td>\n",
       "      <td>360.0</td>\n",
       "      <td>1.0</td>\n",
       "      <td>Urban</td>\n",
       "      <td>Y</td>\n",
       "    </tr>\n",
       "    <tr>\n",
       "      <th>3</th>\n",
       "      <td>3.0</td>\n",
       "      <td>LP001008</td>\n",
       "      <td>Male</td>\n",
       "      <td>No</td>\n",
       "      <td>0</td>\n",
       "      <td>Graduate</td>\n",
       "      <td>No</td>\n",
       "      <td>6000.0</td>\n",
       "      <td>0.0</td>\n",
       "      <td>141.0</td>\n",
       "      <td>360.0</td>\n",
       "      <td>1.0</td>\n",
       "      <td>Urban</td>\n",
       "      <td>Y</td>\n",
       "    </tr>\n",
       "    <tr>\n",
       "      <th>4</th>\n",
       "      <td>4.0</td>\n",
       "      <td>LP001013</td>\n",
       "      <td>Male</td>\n",
       "      <td>Yes</td>\n",
       "      <td>0</td>\n",
       "      <td>Not Graduate</td>\n",
       "      <td>No</td>\n",
       "      <td>2333.0</td>\n",
       "      <td>1516.0</td>\n",
       "      <td>95.0</td>\n",
       "      <td>360.0</td>\n",
       "      <td>1.0</td>\n",
       "      <td>Urban</td>\n",
       "      <td>Y</td>\n",
       "    </tr>\n",
       "  </tbody>\n",
       "</table>\n",
       "</div>"
      ],
      "text/plain": [
       "   Unnamed: 0   Loan_ID Gender Married Dependents     Education Self_Employed  \\\n",
       "0         0.0  LP001003   Male     Yes          1      Graduate            No   \n",
       "1         1.0  LP001005   Male     Yes          0      Graduate           Yes   \n",
       "2         2.0  LP001006   Male     Yes          0  Not Graduate            No   \n",
       "3         3.0  LP001008   Male      No          0      Graduate            No   \n",
       "4         4.0  LP001013   Male     Yes          0  Not Graduate            No   \n",
       "\n",
       "   ApplicantIncome  CoapplicantIncome  LoanAmount  Loan_Amount_Term  \\\n",
       "0           4583.0             1508.0       128.0             360.0   \n",
       "1           3000.0                0.0        66.0             360.0   \n",
       "2           2583.0             2358.0       120.0             360.0   \n",
       "3           6000.0                0.0       141.0             360.0   \n",
       "4           2333.0             1516.0        95.0             360.0   \n",
       "\n",
       "   Credit_History Property_Area Loan_Status  \n",
       "0             1.0         Rural           N  \n",
       "1             1.0         Urban           Y  \n",
       "2             1.0         Urban           Y  \n",
       "3             1.0         Urban           Y  \n",
       "4             1.0         Urban           Y  "
      ]
     },
     "execution_count": 360,
     "metadata": {},
     "output_type": "execute_result"
    }
   ],
   "source": [
    "df.head()"
   ]
  },
  {
   "cell_type": "markdown",
   "metadata": {},
   "source": [
    "# checking for unique values"
   ]
  },
  {
   "cell_type": "code",
   "execution_count": 362,
   "metadata": {},
   "outputs": [
    {
     "data": {
      "text/plain": [
       "['LP001003',\n",
       " 'LP001005',\n",
       " 'LP001006',\n",
       " 'LP001008',\n",
       " 'LP001013',\n",
       " 'LP001024',\n",
       " 'LP001027',\n",
       " 'LP001029',\n",
       " 'LP001030',\n",
       " 'LP001032',\n",
       " 'LP001034',\n",
       " 'LP001036',\n",
       " 'LP001038',\n",
       " 'LP001041',\n",
       " 'LP001043',\n",
       " 'LP001047',\n",
       " 'LP001050',\n",
       " 'LP001068',\n",
       " 'LP001073',\n",
       " 'LP001086',\n",
       " 'LP001087',\n",
       " 'LP001095',\n",
       " 'LP001097',\n",
       " 'LP001098',\n",
       " 'LP001109',\n",
       " 'LP001112',\n",
       " 'LP001116',\n",
       " 'LP001119',\n",
       " 'LP001120',\n",
       " 'LP001123',\n",
       " 'LP001131',\n",
       " 'LP001136',\n",
       " 'LP001137',\n",
       " 'LP001138',\n",
       " 'LP001144',\n",
       " 'LP001146',\n",
       " 'LP001151',\n",
       " 'LP001155',\n",
       " 'LP001157',\n",
       " 'LP001164',\n",
       " 'LP001179',\n",
       " 'LP001194',\n",
       " 'LP001195',\n",
       " 'LP001197',\n",
       " 'LP001199',\n",
       " 'LP001205',\n",
       " 'LP001206',\n",
       " 'LP001222',\n",
       " 'LP001228',\n",
       " 'LP001238',\n",
       " 'LP001241',\n",
       " 'LP001245',\n",
       " 'LP001248',\n",
       " 'LP001250',\n",
       " 'LP001255',\n",
       " 'LP001259',\n",
       " 'LP001264',\n",
       " 'LP001265',\n",
       " 'LP001275',\n",
       " 'LP001279',\n",
       " 'LP001280',\n",
       " 'LP001282',\n",
       " 'LP001316',\n",
       " 'LP001319',\n",
       " 'LP001322',\n",
       " 'LP001325',\n",
       " 'LP001327',\n",
       " 'LP001333',\n",
       " 'LP001334',\n",
       " 'LP001343',\n",
       " 'LP001345',\n",
       " 'LP001367',\n",
       " 'LP001370',\n",
       " 'LP001384',\n",
       " 'LP001385',\n",
       " 'LP001387',\n",
       " 'LP001398',\n",
       " 'LP001405',\n",
       " 'LP001430',\n",
       " 'LP001431',\n",
       " 'LP001432',\n",
       " 'LP001443',\n",
       " 'LP001473',\n",
       " 'LP001478',\n",
       " 'LP001482',\n",
       " 'LP001487',\n",
       " 'LP001489',\n",
       " 'LP001491',\n",
       " 'LP001493',\n",
       " 'LP001507',\n",
       " 'LP001514',\n",
       " 'LP001518',\n",
       " 'LP001520',\n",
       " 'LP001528',\n",
       " 'LP001532',\n",
       " 'LP001535',\n",
       " 'LP001546',\n",
       " 'LP001560',\n",
       " 'LP001565',\n",
       " 'LP001572',\n",
       " 'LP001577',\n",
       " 'LP001578',\n",
       " 'LP001579',\n",
       " 'LP001581',\n",
       " 'LP001586',\n",
       " 'LP001603',\n",
       " 'LP001606',\n",
       " 'LP001608',\n",
       " 'LP001616',\n",
       " 'LP001630',\n",
       " 'LP001634',\n",
       " 'LP001636',\n",
       " 'LP001639',\n",
       " 'LP001641',\n",
       " 'LP001643',\n",
       " 'LP001653',\n",
       " 'LP001658',\n",
       " 'LP001664',\n",
       " 'LP001669',\n",
       " 'LP001671',\n",
       " 'LP001674',\n",
       " 'LP001688',\n",
       " 'LP001691',\n",
       " 'LP001692',\n",
       " 'LP001693',\n",
       " 'LP001698',\n",
       " 'LP001699',\n",
       " 'LP001702',\n",
       " 'LP001711',\n",
       " 'LP001715',\n",
       " 'LP001716',\n",
       " 'LP001720',\n",
       " 'LP001722',\n",
       " 'LP001726',\n",
       " 'LP001732',\n",
       " 'LP001734',\n",
       " 'LP001736',\n",
       " 'LP001743',\n",
       " 'LP001744',\n",
       " 'LP001750',\n",
       " 'LP001754',\n",
       " 'LP001765',\n",
       " 'LP001768',\n",
       " 'LP001770',\n",
       " 'LP001778',\n",
       " 'LP001788',\n",
       " 'LP001790',\n",
       " 'LP001792',\n",
       " 'LP001798',\n",
       " 'LP001800',\n",
       " 'LP001807',\n",
       " 'LP001811',\n",
       " 'LP001813',\n",
       " 'LP001814',\n",
       " 'LP001819',\n",
       " 'LP001824',\n",
       " 'LP001825',\n",
       " 'LP001836',\n",
       " 'LP001841',\n",
       " 'LP001849',\n",
       " 'LP001854',\n",
       " 'LP001864',\n",
       " 'LP001868',\n",
       " 'LP001871',\n",
       " 'LP001872',\n",
       " 'LP001877',\n",
       " 'LP001883',\n",
       " 'LP001884',\n",
       " 'LP001888',\n",
       " 'LP001892',\n",
       " 'LP001894',\n",
       " 'LP001896',\n",
       " 'LP001900',\n",
       " 'LP001904',\n",
       " 'LP001908',\n",
       " 'LP001914',\n",
       " 'LP001915',\n",
       " 'LP001917',\n",
       " 'LP001924',\n",
       " 'LP001925',\n",
       " 'LP001926',\n",
       " 'LP001931',\n",
       " 'LP001936',\n",
       " 'LP001938',\n",
       " 'LP001940',\n",
       " 'LP001945',\n",
       " 'LP001949',\n",
       " 'LP001954',\n",
       " 'LP001963',\n",
       " 'LP001964',\n",
       " 'LP001972',\n",
       " 'LP001974',\n",
       " 'LP001977',\n",
       " 'LP001978',\n",
       " 'LP001993',\n",
       " 'LP001994',\n",
       " 'LP002002',\n",
       " 'LP002004',\n",
       " 'LP002006',\n",
       " 'LP002008',\n",
       " 'LP002031',\n",
       " 'LP002035',\n",
       " 'LP002036',\n",
       " 'LP002043',\n",
       " 'LP002051',\n",
       " 'LP002053',\n",
       " 'LP002055',\n",
       " 'LP002068',\n",
       " 'LP002086',\n",
       " 'LP002087',\n",
       " 'LP002097',\n",
       " 'LP002098',\n",
       " 'LP002100',\n",
       " 'LP002106',\n",
       " 'LP002114',\n",
       " 'LP002116',\n",
       " 'LP002126',\n",
       " 'LP002128',\n",
       " 'LP002131',\n",
       " 'LP002141',\n",
       " 'LP002142',\n",
       " 'LP002143',\n",
       " 'LP002144',\n",
       " 'LP002151',\n",
       " 'LP002158',\n",
       " 'LP002161',\n",
       " 'LP002175',\n",
       " 'LP002178',\n",
       " 'LP002180',\n",
       " 'LP002181',\n",
       " 'LP002187',\n",
       " 'LP002188',\n",
       " 'LP002205',\n",
       " 'LP002209',\n",
       " 'LP002211',\n",
       " 'LP002219',\n",
       " 'LP002223',\n",
       " 'LP002224',\n",
       " 'LP002225',\n",
       " 'LP002226',\n",
       " 'LP002234',\n",
       " 'LP002236',\n",
       " 'LP002237',\n",
       " 'LP002239',\n",
       " 'LP002244',\n",
       " 'LP002250',\n",
       " 'LP002263',\n",
       " 'LP002265',\n",
       " 'LP002266',\n",
       " 'LP002272',\n",
       " 'LP002277',\n",
       " 'LP002281',\n",
       " 'LP002284',\n",
       " 'LP002287',\n",
       " 'LP002288',\n",
       " 'LP002296',\n",
       " 'LP002297',\n",
       " 'LP002300',\n",
       " 'LP002305',\n",
       " 'LP002308',\n",
       " 'LP002314',\n",
       " 'LP002318',\n",
       " 'LP002332',\n",
       " 'LP002337',\n",
       " 'LP002345',\n",
       " 'LP002347',\n",
       " 'LP002348',\n",
       " 'LP002357',\n",
       " 'LP002361',\n",
       " 'LP002362',\n",
       " 'LP002366',\n",
       " 'LP002367',\n",
       " 'LP002368',\n",
       " 'LP002369',\n",
       " 'LP002370',\n",
       " 'LP002377',\n",
       " 'LP002379',\n",
       " 'LP002387',\n",
       " 'LP002390',\n",
       " 'LP002398',\n",
       " 'LP002407',\n",
       " 'LP002418',\n",
       " 'LP002429',\n",
       " 'LP002434',\n",
       " 'LP002435',\n",
       " 'LP002443',\n",
       " 'LP002446',\n",
       " 'LP002447',\n",
       " 'LP002448',\n",
       " 'LP002449',\n",
       " 'LP002453',\n",
       " 'LP002455',\n",
       " 'LP002459',\n",
       " 'LP002472',\n",
       " 'LP002484',\n",
       " 'LP002489',\n",
       " 'LP002493',\n",
       " 'LP002494',\n",
       " 'LP002500',\n",
       " 'LP002502',\n",
       " 'LP002505',\n",
       " 'LP002517',\n",
       " 'LP002519',\n",
       " 'LP002522',\n",
       " 'LP002530',\n",
       " 'LP002536',\n",
       " 'LP002537',\n",
       " 'LP002544',\n",
       " 'LP002545',\n",
       " 'LP002556',\n",
       " 'LP002560',\n",
       " 'LP002571',\n",
       " 'LP002585',\n",
       " 'LP002586',\n",
       " 'LP002587',\n",
       " 'LP002588',\n",
       " 'LP002600',\n",
       " 'LP002603',\n",
       " 'LP002606',\n",
       " 'LP002618',\n",
       " 'LP002619',\n",
       " 'LP002625',\n",
       " 'LP002637',\n",
       " 'LP002643',\n",
       " 'LP002648',\n",
       " 'LP002659',\n",
       " 'LP002670',\n",
       " 'LP002682',\n",
       " 'LP002684',\n",
       " 'LP002689',\n",
       " 'LP002690',\n",
       " 'LP002692',\n",
       " 'LP002705',\n",
       " 'LP002714',\n",
       " 'LP002716',\n",
       " 'LP002720',\n",
       " 'LP002723',\n",
       " 'LP002732',\n",
       " 'LP002738',\n",
       " 'LP002739',\n",
       " 'LP002741',\n",
       " 'LP002743',\n",
       " 'LP002753',\n",
       " 'LP002755',\n",
       " 'LP002757',\n",
       " 'LP002768',\n",
       " 'LP002772',\n",
       " 'LP002776',\n",
       " 'LP002777',\n",
       " 'LP002789',\n",
       " 'LP002792',\n",
       " 'LP002794',\n",
       " 'LP002807',\n",
       " 'LP002821',\n",
       " 'LP002833',\n",
       " 'LP002836',\n",
       " 'LP002837',\n",
       " 'LP002840',\n",
       " 'LP002841',\n",
       " 'LP002863',\n",
       " 'LP002868',\n",
       " 'LP002872',\n",
       " 'LP002874',\n",
       " 'LP002877',\n",
       " 'LP002893',\n",
       " 'LP002894',\n",
       " 'LP002898',\n",
       " 'LP002911',\n",
       " 'LP002916',\n",
       " 'LP002917',\n",
       " 'LP002925',\n",
       " 'LP002926',\n",
       " 'LP002928',\n",
       " 'LP002936',\n",
       " 'LP002940',\n",
       " 'LP002943',\n",
       " 'LP002953',\n",
       " 'LP002974',\n",
       " 'LP002978',\n",
       " 'LP002979',\n",
       " 'LP002990']"
      ]
     },
     "execution_count": 362,
     "metadata": {},
     "output_type": "execute_result"
    }
   ],
   "source": [
    "df.Loan_ID.unique().tolist()"
   ]
  },
  {
   "cell_type": "code",
   "execution_count": 364,
   "metadata": {},
   "outputs": [
    {
     "data": {
      "text/plain": [
       "<Axes: xlabel='Loan_ID', ylabel='count'>"
      ]
     },
     "execution_count": 364,
     "metadata": {},
     "output_type": "execute_result"
    },
    {
     "data": {
      "image/png": "[encoded data removed]",
      "text/plain": [
       "<Figure size 640x480 with 1 Axes>"
      ]
     },
     "metadata": {},
     "output_type": "display_data"
    }
   ],
   "source": [
    "sns.countplot(x =df.Loan_ID)"
   ]
  },
  {
   "cell_type": "markdown",
   "metadata": {},
   "source": [
    "# removing loan id"
   ]
  },
  {
   "cell_type": "code",
   "execution_count": 365,
   "metadata": {},
   "outputs": [],
   "source": [
    "df = df.drop('Loan_ID', axis=1)"
   ]
  },
  {
   "cell_type": "code",
   "execution_count": 366,
   "metadata": {},
   "outputs": [
    {
     "data": {
      "text/html": [
       "<div>\n",
       "<style scoped>\n",
       "    .dataframe tbody tr th:only-of-type {\n",
       "        vertical-align: middle;\n",
       "    }\n",
       "\n",
       "    .dataframe tbody tr th {\n",
       "        vertical-align: top;\n",
       "    }\n",
       "\n",
       "    .dataframe thead th {\n",
       "        text-align: right;\n",
       "    }\n",
       "</style>\n",
       "<table border=\"1\" class=\"dataframe\">\n",
       "  <thead>\n",
       "    <tr style=\"text-align: right;\">\n",
       "      <th></th>\n",
       "      <th>Unnamed: 0</th>\n",
       "      <th>Gender</th>\n",
       "      <th>Married</th>\n",
       "      <th>Dependents</th>\n",
       "      <th>Education</th>\n",
       "      <th>Self_Employed</th>\n",
       "      <th>ApplicantIncome</th>\n",
       "      <th>CoapplicantIncome</th>\n",
       "      <th>LoanAmount</th>\n",
       "      <th>Loan_Amount_Term</th>\n",
       "      <th>Credit_History</th>\n",
       "      <th>Property_Area</th>\n",
       "      <th>Loan_Status</th>\n",
       "    </tr>\n",
       "  </thead>\n",
       "  <tbody>\n",
       "    <tr>\n",
       "      <th>0</th>\n",
       "      <td>0.0</td>\n",
       "      <td>Male</td>\n",
       "      <td>Yes</td>\n",
       "      <td>1</td>\n",
       "      <td>Graduate</td>\n",
       "      <td>No</td>\n",
       "      <td>4583.0</td>\n",
       "      <td>1508.0</td>\n",
       "      <td>128.0</td>\n",
       "      <td>360.0</td>\n",
       "      <td>1.0</td>\n",
       "      <td>Rural</td>\n",
       "      <td>N</td>\n",
       "    </tr>\n",
       "    <tr>\n",
       "      <th>1</th>\n",
       "      <td>1.0</td>\n",
       "      <td>Male</td>\n",
       "      <td>Yes</td>\n",
       "      <td>0</td>\n",
       "      <td>Graduate</td>\n",
       "      <td>Yes</td>\n",
       "      <td>3000.0</td>\n",
       "      <td>0.0</td>\n",
       "      <td>66.0</td>\n",
       "      <td>360.0</td>\n",
       "      <td>1.0</td>\n",
       "      <td>Urban</td>\n",
       "      <td>Y</td>\n",
       "    </tr>\n",
       "    <tr>\n",
       "      <th>2</th>\n",
       "      <td>2.0</td>\n",
       "      <td>Male</td>\n",
       "      <td>Yes</td>\n",
       "      <td>0</td>\n",
       "      <td>Not Graduate</td>\n",
       "      <td>No</td>\n",
       "      <td>2583.0</td>\n",
       "      <td>2358.0</td>\n",
       "      <td>120.0</td>\n",
       "      <td>360.0</td>\n",
       "      <td>1.0</td>\n",
       "      <td>Urban</td>\n",
       "      <td>Y</td>\n",
       "    </tr>\n",
       "    <tr>\n",
       "      <th>3</th>\n",
       "      <td>3.0</td>\n",
       "      <td>Male</td>\n",
       "      <td>No</td>\n",
       "      <td>0</td>\n",
       "      <td>Graduate</td>\n",
       "      <td>No</td>\n",
       "      <td>6000.0</td>\n",
       "      <td>0.0</td>\n",
       "      <td>141.0</td>\n",
       "      <td>360.0</td>\n",
       "      <td>1.0</td>\n",
       "      <td>Urban</td>\n",
       "      <td>Y</td>\n",
       "    </tr>\n",
       "    <tr>\n",
       "      <th>4</th>\n",
       "      <td>4.0</td>\n",
       "      <td>Male</td>\n",
       "      <td>Yes</td>\n",
       "      <td>0</td>\n",
       "      <td>Not Graduate</td>\n",
       "      <td>No</td>\n",
       "      <td>2333.0</td>\n",
       "      <td>1516.0</td>\n",
       "      <td>95.0</td>\n",
       "      <td>360.0</td>\n",
       "      <td>1.0</td>\n",
       "      <td>Urban</td>\n",
       "      <td>Y</td>\n",
       "    </tr>\n",
       "  </tbody>\n",
       "</table>\n",
       "</div>"
      ],
      "text/plain": [
       "   Unnamed: 0 Gender Married Dependents     Education Self_Employed  \\\n",
       "0         0.0   Male     Yes          1      Graduate            No   \n",
       "1         1.0   Male     Yes          0      Graduate           Yes   \n",
       "2         2.0   Male     Yes          0  Not Graduate            No   \n",
       "3         3.0   Male      No          0      Graduate            No   \n",
       "4         4.0   Male     Yes          0  Not Graduate            No   \n",
       "\n",
       "   ApplicantIncome  CoapplicantIncome  LoanAmount  Loan_Amount_Term  \\\n",
       "0           4583.0             1508.0       128.0             360.0   \n",
       "1           3000.0                0.0        66.0             360.0   \n",
       "2           2583.0             2358.0       120.0             360.0   \n",
       "3           6000.0                0.0       141.0             360.0   \n",
       "4           2333.0             1516.0        95.0             360.0   \n",
       "\n",
       "   Credit_History Property_Area Loan_Status  \n",
       "0             1.0         Rural           N  \n",
       "1             1.0         Urban           Y  \n",
       "2             1.0         Urban           Y  \n",
       "3             1.0         Urban           Y  \n",
       "4             1.0         Urban           Y  "
      ]
     },
     "execution_count": 366,
     "metadata": {},
     "output_type": "execute_result"
    }
   ],
   "source": [
    "df.head()"
   ]
  },
  {
   "cell_type": "markdown",
   "metadata": {},
   "source": [
    "# removing unnmaed column"
   ]
  },
  {
   "cell_type": "code",
   "execution_count": 367,
   "metadata": {},
   "outputs": [],
   "source": [
    "df = df.drop('Unnamed: 0', axis=1) "
   ]
  },
  {
   "cell_type": "code",
   "execution_count": 368,
   "metadata": {},
   "outputs": [
    {
     "data": {
      "text/html": [
       "<div>\n",
       "<style scoped>\n",
       "    .dataframe tbody tr th:only-of-type {\n",
       "        vertical-align: middle;\n",
       "    }\n",
       "\n",
       "    .dataframe tbody tr th {\n",
       "        vertical-align: top;\n",
       "    }\n",
       "\n",
       "    .dataframe thead th {\n",
       "        text-align: right;\n",
       "    }\n",
       "</style>\n",
       "<table border=\"1\" class=\"dataframe\">\n",
       "  <thead>\n",
       "    <tr style=\"text-align: right;\">\n",
       "      <th></th>\n",
       "      <th>Gender</th>\n",
       "      <th>Married</th>\n",
       "      <th>Dependents</th>\n",
       "      <th>Education</th>\n",
       "      <th>Self_Employed</th>\n",
       "      <th>ApplicantIncome</th>\n",
       "      <th>CoapplicantIncome</th>\n",
       "      <th>LoanAmount</th>\n",
       "      <th>Loan_Amount_Term</th>\n",
       "      <th>Credit_History</th>\n",
       "      <th>Property_Area</th>\n",
       "      <th>Loan_Status</th>\n",
       "    </tr>\n",
       "  </thead>\n",
       "  <tbody>\n",
       "    <tr>\n",
       "      <th>0</th>\n",
       "      <td>Male</td>\n",
       "      <td>Yes</td>\n",
       "      <td>1</td>\n",
       "      <td>Graduate</td>\n",
       "      <td>No</td>\n",
       "      <td>4583.0</td>\n",
       "      <td>1508.0</td>\n",
       "      <td>128.0</td>\n",
       "      <td>360.0</td>\n",
       "      <td>1.0</td>\n",
       "      <td>Rural</td>\n",
       "      <td>N</td>\n",
       "    </tr>\n",
       "    <tr>\n",
       "      <th>1</th>\n",
       "      <td>Male</td>\n",
       "      <td>Yes</td>\n",
       "      <td>0</td>\n",
       "      <td>Graduate</td>\n",
       "      <td>Yes</td>\n",
       "      <td>3000.0</td>\n",
       "      <td>0.0</td>\n",
       "      <td>66.0</td>\n",
       "      <td>360.0</td>\n",
       "      <td>1.0</td>\n",
       "      <td>Urban</td>\n",
       "      <td>Y</td>\n",
       "    </tr>\n",
       "    <tr>\n",
       "      <th>2</th>\n",
       "      <td>Male</td>\n",
       "      <td>Yes</td>\n",
       "      <td>0</td>\n",
       "      <td>Not Graduate</td>\n",
       "      <td>No</td>\n",
       "      <td>2583.0</td>\n",
       "      <td>2358.0</td>\n",
       "      <td>120.0</td>\n",
       "      <td>360.0</td>\n",
       "      <td>1.0</td>\n",
       "      <td>Urban</td>\n",
       "      <td>Y</td>\n",
       "    </tr>\n",
       "    <tr>\n",
       "      <th>3</th>\n",
       "      <td>Male</td>\n",
       "      <td>No</td>\n",
       "      <td>0</td>\n",
       "      <td>Graduate</td>\n",
       "      <td>No</td>\n",
       "      <td>6000.0</td>\n",
       "      <td>0.0</td>\n",
       "      <td>141.0</td>\n",
       "      <td>360.0</td>\n",
       "      <td>1.0</td>\n",
       "      <td>Urban</td>\n",
       "      <td>Y</td>\n",
       "    </tr>\n",
       "    <tr>\n",
       "      <th>4</th>\n",
       "      <td>Male</td>\n",
       "      <td>Yes</td>\n",
       "      <td>0</td>\n",
       "      <td>Not Graduate</td>\n",
       "      <td>No</td>\n",
       "      <td>2333.0</td>\n",
       "      <td>1516.0</td>\n",
       "      <td>95.0</td>\n",
       "      <td>360.0</td>\n",
       "      <td>1.0</td>\n",
       "      <td>Urban</td>\n",
       "      <td>Y</td>\n",
       "    </tr>\n",
       "  </tbody>\n",
       "</table>\n",
       "</div>"
      ],
      "text/plain": [
       "  Gender Married Dependents     Education Self_Employed  ApplicantIncome  \\\n",
       "0   Male     Yes          1      Graduate            No           4583.0   \n",
       "1   Male     Yes          0      Graduate           Yes           3000.0   \n",
       "2   Male     Yes          0  Not Graduate            No           2583.0   \n",
       "3   Male      No          0      Graduate            No           6000.0   \n",
       "4   Male     Yes          0  Not Graduate            No           2333.0   \n",
       "\n",
       "   CoapplicantIncome  LoanAmount  Loan_Amount_Term  Credit_History  \\\n",
       "0             1508.0       128.0             360.0             1.0   \n",
       "1                0.0        66.0             360.0             1.0   \n",
       "2             2358.0       120.0             360.0             1.0   \n",
       "3                0.0       141.0             360.0             1.0   \n",
       "4             1516.0        95.0             360.0             1.0   \n",
       "\n",
       "  Property_Area Loan_Status  \n",
       "0         Rural           N  \n",
       "1         Urban           Y  \n",
       "2         Urban           Y  \n",
       "3         Urban           Y  \n",
       "4         Urban           Y  "
      ]
     },
     "execution_count": 368,
     "metadata": {},
     "output_type": "execute_result"
    }
   ],
   "source": [
    "df.head()"
   ]
  },
  {
   "cell_type": "markdown",
   "metadata": {},
   "source": [
    "# visualization to check for outliers"
   ]
  },
  {
   "cell_type": "code",
   "execution_count": null,
   "metadata": {},
   "outputs": [],
   "source": [
    "\n",
    "sns.boxplot(x=\"ApplicantIncome\", y=\"Loan_Status\", data=df)"
   ]
  },
  {
   "cell_type": "code",
   "execution_count": 370,
   "metadata": {},
   "outputs": [
    {
     "data": {
      "text/plain": [
       "<Axes: xlabel='ApplicantIncome', ylabel='count'>"
      ]
     },
     "execution_count": 370,
     "metadata": {},
     "output_type": "execute_result"
    },
    {
     "data": {
      "image/png": "[encoded data removed]",
      "text/plain": [
       "<Figure size 640x480 with 1 Axes>"
      ]
     },
     "metadata": {},
     "output_type": "display_data"
    }
   ],
   "source": [
    "sns.countplot(x=\"ApplicantIncome\", data=df)"
   ]
  },
  {
   "cell_type": "code",
   "execution_count": 371,
   "metadata": {},
   "outputs": [
    {
     "name": "stderr",
     "output_type": "stream",
     "text": [
      "C:\\Users\\User\\anaconda3\\Lib\\site-packages\\seaborn\\_oldcore.py:1119: FutureWarning: use_inf_as_na option is deprecated and will be removed in a future version. Convert inf values to NaN before operating instead.\n",
      "  with pd.option_context('mode.use_inf_as_na', True):\n"
     ]
    },
    {
     "data": {
      "text/plain": [
       "<seaborn.axisgrid.FacetGrid at 0x56735afc50>"
      ]
     },
     "execution_count": 371,
     "metadata": {},
     "output_type": "execute_result"
    },
    {
     "data": {
      "image/png": "[encoded data removed]",
      "text/plain": [
       "<Figure size 500x500 with 1 Axes>"
      ]
     },
     "metadata": {},
     "output_type": "display_data"
    }
   ],
   "source": [
    "sns.displot(x=\"ApplicantIncome\", data=df)"
   ]
  },
  {
   "cell_type": "code",
   "execution_count": 372,
   "metadata": {},
   "outputs": [
    {
     "name": "stderr",
     "output_type": "stream",
     "text": [
      "C:\\Users\\User\\anaconda3\\Lib\\site-packages\\seaborn\\_oldcore.py:1119: FutureWarning: use_inf_as_na option is deprecated and will be removed in a future version. Convert inf values to NaN before operating instead.\n",
      "  with pd.option_context('mode.use_inf_as_na', True):\n"
     ]
    },
    {
     "data": {
      "text/plain": [
       "<seaborn.axisgrid.FacetGrid at 0x560a40fcd0>"
      ]
     },
     "execution_count": 372,
     "metadata": {},
     "output_type": "execute_result"
    },
    {
     "data": {
      "image/png": "[encoded data removed]",
      "text/plain": [
       "<Figure size 500x500 with 1 Axes>"
      ]
     },
     "metadata": {},
     "output_type": "display_data"
    }
   ],
   "source": [
    "sns.displot(x=\"Property_Area\", data=df)"
   ]
  },
  {
   "cell_type": "code",
   "execution_count": 373,
   "metadata": {},
   "outputs": [
    {
     "name": "stderr",
     "output_type": "stream",
     "text": [
      "C:\\Users\\User\\AppData\\Local\\Temp\\ipykernel_2828\\2462274995.py:1: UserWarning: \n",
      "\n",
      "`distplot` is a deprecated function and will be removed in seaborn v0.14.0.\n",
      "\n",
      "Please adapt your code to use either `displot` (a figure-level function with\n",
      "similar flexibility) or `histplot` (an axes-level function for histograms).\n",
      "\n",
      "For a guide to updating your code to use the new functions, please see\n",
      "https://gist.github.com/mwaskom/de44147ed2974457ad6372750bbe5751\n",
      "\n",
      "  sns.distplot(x =df.ApplicantIncome,  hist=True, kde=True)\n",
      "C:\\Users\\User\\anaconda3\\Lib\\site-packages\\seaborn\\_oldcore.py:1119: FutureWarning: use_inf_as_na option is deprecated and will be removed in a future version. Convert inf values to NaN before operating instead.\n",
      "  with pd.option_context('mode.use_inf_as_na', True):\n"
     ]
    },
    {
     "data": {
      "text/plain": [
       "<Axes: ylabel='Density'>"
      ]
     },
     "execution_count": 373,
     "metadata": {},
     "output_type": "execute_result"
    },
    {
     "data": {
      "image/png": "[encoded data removed]",
      "text/plain": [
       "<Figure size 640x480 with 1 Axes>"
      ]
     },
     "metadata": {},
     "output_type": "display_data"
    }
   ],
   "source": [
    "sns.distplot(x =df.ApplicantIncome,  hist=True, kde=True)"
   ]
  },
  {
   "cell_type": "markdown",
   "metadata": {},
   "source": [
    "# checking for skewdness"
   ]
  },
  {
   "cell_type": "code",
   "execution_count": null,
   "metadata": {},
   "outputs": [],
   "source": [
    "\n",
    "\n",
    "import matplotlib.pyplot as plt\n",
    "from scipy.stats import skew\n",
    "for col in df.select_dtypes(include = ['int64' , 'float64']).columns:\n",
    "    skewness = skew(df[col])\n",
    "    plt.figure()\n",
    "    sns.distplot(x = df[col], hist = True , kde = True)\n",
    "    plt.annotate(f' {col} \\n Skewness: {skewness:.2f}', xy=(0.7, 0.9), xycoords='axes fraction')\n",
    "    \n",
    "    "
   ]
  },
  {
   "cell_type": "markdown",
   "metadata": {},
   "source": [
    "# handling skewdness using bocox"
   ]
  },
  {
   "cell_type": "code",
   "execution_count": 381,
   "metadata": {},
   "outputs": [],
   "source": [
    "from scipy.stats import boxcox\n"
   ]
  },
  {
   "cell_type": "code",
   "execution_count": 382,
   "metadata": {},
   "outputs": [
    {
     "name": "stderr",
     "output_type": "stream",
     "text": [
      "C:\\Users\\User\\AppData\\Local\\Temp\\ipykernel_2828\\3976793069.py:2: UserWarning: \n",
      "\n",
      "`distplot` is a deprecated function and will be removed in seaborn v0.14.0.\n",
      "\n",
      "Please adapt your code to use either `displot` (a figure-level function with\n",
      "similar flexibility) or `histplot` (an axes-level function for histograms).\n",
      "\n",
      "For a guide to updating your code to use the new functions, please see\n",
      "https://gist.github.com/mwaskom/de44147ed2974457ad6372750bbe5751\n",
      "\n",
      "  sns.distplot(df.LoanAmount, hist = True , kde = True)\n",
      "C:\\Users\\User\\anaconda3\\Lib\\site-packages\\seaborn\\_oldcore.py:1119: FutureWarning: use_inf_as_na option is deprecated and will be removed in a future version. Convert inf values to NaN before operating instead.\n",
      "  with pd.option_context('mode.use_inf_as_na', True):\n"
     ]
    },
    {
     "data": {
      "text/plain": [
       "Text(0.7, 0.9, ' skewness :-0.19')"
      ]
     },
     "execution_count": 382,
     "metadata": {},
     "output_type": "execute_result"
    },
    {
     "data": {
      "image/png": "[encoded data removed]",
      "text/plain": [
       "<Figure size 640x480 with 1 Axes>"
      ]
     },
     "metadata": {},
     "output_type": "display_data"
    }
   ],
   "source": [
    "\n",
    "df.LoanAmount = pd.Series(boxcox(1 + df.LoanAmount)[0])\n",
    "sns.distplot(df.LoanAmount, hist = True , kde = True)\n",
    "skewness = skew(df.LoanAmount)\n",
    "plt.annotate(f\" skewness :{skewness:.2f}\", xy=(0.7, 0.9), xycoords='axes fraction')"
   ]
  },
  {
   "cell_type": "code",
   "execution_count": 384,
   "metadata": {},
   "outputs": [
    {
     "name": "stderr",
     "output_type": "stream",
     "text": [
      "C:\\Users\\User\\AppData\\Local\\Temp\\ipykernel_2828\\2815897838.py:2: UserWarning: \n",
      "\n",
      "`distplot` is a deprecated function and will be removed in seaborn v0.14.0.\n",
      "\n",
      "Please adapt your code to use either `displot` (a figure-level function with\n",
      "similar flexibility) or `histplot` (an axes-level function for histograms).\n",
      "\n",
      "For a guide to updating your code to use the new functions, please see\n",
      "https://gist.github.com/mwaskom/de44147ed2974457ad6372750bbe5751\n",
      "\n",
      "  sns.distplot(df.CoapplicantIncome, hist = True , kde = True)\n",
      "C:\\Users\\User\\anaconda3\\Lib\\site-packages\\seaborn\\_oldcore.py:1119: FutureWarning: use_inf_as_na option is deprecated and will be removed in a future version. Convert inf values to NaN before operating instead.\n",
      "  with pd.option_context('mode.use_inf_as_na', True):\n"
     ]
    },
    {
     "data": {
      "text/plain": [
       "Text(0.7, 0.9, ' skewness :-0.14')"
      ]
     },
     "execution_count": 384,
     "metadata": {},
     "output_type": "execute_result"
    },
    {
     "data": {
      "image/png": "[encoded data removed]",
      "text/plain": [
       "<Figure size 640x480 with 1 Axes>"
      ]
     },
     "metadata": {},
     "output_type": "display_data"
    }
   ],
   "source": [
    "\n",
    "df.CoapplicantIncome = pd.Series(boxcox(1 + df.CoapplicantIncome)[0])\n",
    "sns.distplot(df.CoapplicantIncome, hist = True , kde = True)\n",
    "skewness = skew(df.CoapplicantIncome)\n",
    "plt.annotate(f\" skewness :{skewness:.2f}\", xy=(0.7, 0.9), xycoords='axes fraction')"
   ]
  },
  {
   "cell_type": "code",
   "execution_count": 385,
   "metadata": {},
   "outputs": [
    {
     "name": "stderr",
     "output_type": "stream",
     "text": [
      "C:\\Users\\User\\AppData\\Local\\Temp\\ipykernel_2828\\941335712.py:2: UserWarning: \n",
      "\n",
      "`distplot` is a deprecated function and will be removed in seaborn v0.14.0.\n",
      "\n",
      "Please adapt your code to use either `displot` (a figure-level function with\n",
      "similar flexibility) or `histplot` (an axes-level function for histograms).\n",
      "\n",
      "For a guide to updating your code to use the new functions, please see\n",
      "https://gist.github.com/mwaskom/de44147ed2974457ad6372750bbe5751\n",
      "\n",
      "  sns.distplot(df.ApplicantIncome, hist = True , kde = True)\n",
      "C:\\Users\\User\\anaconda3\\Lib\\site-packages\\seaborn\\_oldcore.py:1119: FutureWarning: use_inf_as_na option is deprecated and will be removed in a future version. Convert inf values to NaN before operating instead.\n",
      "  with pd.option_context('mode.use_inf_as_na', True):\n"
     ]
    },
    {
     "data": {
      "text/plain": [
       "Text(0.7, 0.9, ' skewness :0.08')"
      ]
     },
     "execution_count": 385,
     "metadata": {},
     "output_type": "execute_result"
    },
    {
     "data": {
      "image/png": "[encoded data removed]",
      "text/plain": [
       "<Figure size 640x480 with 1 Axes>"
      ]
     },
     "metadata": {},
     "output_type": "display_data"
    }
   ],
   "source": [
    "\n",
    "df.ApplicantIncome = pd.Series(boxcox(1 + df.ApplicantIncome)[0])\n",
    "sns.distplot(df.ApplicantIncome, hist = True , kde = True)\n",
    "skewness = skew(df.ApplicantIncome)\n",
    "plt.annotate(f\" skewness :{skewness:.2f}\", xy=(0.7, 0.9), xycoords='axes fraction')"
   ]
  },
  {
   "cell_type": "code",
   "execution_count": 389,
   "metadata": {},
   "outputs": [
    {
     "data": {
      "text/html": [
       "<div>\n",
       "<style scoped>\n",
       "    .dataframe tbody tr th:only-of-type {\n",
       "        vertical-align: middle;\n",
       "    }\n",
       "\n",
       "    .dataframe tbody tr th {\n",
       "        vertical-align: top;\n",
       "    }\n",
       "\n",
       "    .dataframe thead th {\n",
       "        text-align: right;\n",
       "    }\n",
       "</style>\n",
       "<table border=\"1\" class=\"dataframe\">\n",
       "  <thead>\n",
       "    <tr style=\"text-align: right;\">\n",
       "      <th></th>\n",
       "      <th>Gender</th>\n",
       "      <th>Married</th>\n",
       "      <th>Dependents</th>\n",
       "      <th>Education</th>\n",
       "      <th>Self_Employed</th>\n",
       "      <th>ApplicantIncome</th>\n",
       "      <th>CoapplicantIncome</th>\n",
       "      <th>LoanAmount</th>\n",
       "      <th>Loan_Amount_Term</th>\n",
       "      <th>Credit_History</th>\n",
       "      <th>Property_Area</th>\n",
       "      <th>Loan_Status</th>\n",
       "    </tr>\n",
       "  </thead>\n",
       "  <tbody>\n",
       "    <tr>\n",
       "      <th>0</th>\n",
       "      <td>Male</td>\n",
       "      <td>Yes</td>\n",
       "      <td>1</td>\n",
       "      <td>Graduate</td>\n",
       "      <td>No</td>\n",
       "      <td>219.563905</td>\n",
       "      <td>9.106998</td>\n",
       "      <td>5349.577027</td>\n",
       "      <td>360.0</td>\n",
       "      <td>1.0</td>\n",
       "      <td>Rural</td>\n",
       "      <td>N</td>\n",
       "    </tr>\n",
       "    <tr>\n",
       "      <th>1</th>\n",
       "      <td>Male</td>\n",
       "      <td>Yes</td>\n",
       "      <td>0</td>\n",
       "      <td>Graduate</td>\n",
       "      <td>Yes</td>\n",
       "      <td>171.735018</td>\n",
       "      <td>0.000000</td>\n",
       "      <td>1542.019280</td>\n",
       "      <td>360.0</td>\n",
       "      <td>1.0</td>\n",
       "      <td>Urban</td>\n",
       "      <td>Y</td>\n",
       "    </tr>\n",
       "    <tr>\n",
       "      <th>2</th>\n",
       "      <td>Male</td>\n",
       "      <td>Yes</td>\n",
       "      <td>0</td>\n",
       "      <td>Not Graduate</td>\n",
       "      <td>No</td>\n",
       "      <td>157.440460</td>\n",
       "      <td>9.797386</td>\n",
       "      <td>4737.291016</td>\n",
       "      <td>360.0</td>\n",
       "      <td>1.0</td>\n",
       "      <td>Urban</td>\n",
       "      <td>Y</td>\n",
       "    </tr>\n",
       "    <tr>\n",
       "      <th>3</th>\n",
       "      <td>Male</td>\n",
       "      <td>No</td>\n",
       "      <td>0</td>\n",
       "      <td>Graduate</td>\n",
       "      <td>No</td>\n",
       "      <td>256.622463</td>\n",
       "      <td>0.000000</td>\n",
       "      <td>6419.295974</td>\n",
       "      <td>360.0</td>\n",
       "      <td>1.0</td>\n",
       "      <td>Urban</td>\n",
       "      <td>Y</td>\n",
       "    </tr>\n",
       "    <tr>\n",
       "      <th>4</th>\n",
       "      <td>Male</td>\n",
       "      <td>Yes</td>\n",
       "      <td>0</td>\n",
       "      <td>Not Graduate</td>\n",
       "      <td>No</td>\n",
       "      <td>148.397129</td>\n",
       "      <td>9.115065</td>\n",
       "      <td>3052.720470</td>\n",
       "      <td>360.0</td>\n",
       "      <td>1.0</td>\n",
       "      <td>Urban</td>\n",
       "      <td>Y</td>\n",
       "    </tr>\n",
       "  </tbody>\n",
       "</table>\n",
       "</div>"
      ],
      "text/plain": [
       "  Gender Married Dependents     Education Self_Employed  ApplicantIncome  \\\n",
       "0   Male     Yes          1      Graduate            No       219.563905   \n",
       "1   Male     Yes          0      Graduate           Yes       171.735018   \n",
       "2   Male     Yes          0  Not Graduate            No       157.440460   \n",
       "3   Male      No          0      Graduate            No       256.622463   \n",
       "4   Male     Yes          0  Not Graduate            No       148.397129   \n",
       "\n",
       "   CoapplicantIncome   LoanAmount  Loan_Amount_Term  Credit_History  \\\n",
       "0           9.106998  5349.577027             360.0             1.0   \n",
       "1           0.000000  1542.019280             360.0             1.0   \n",
       "2           9.797386  4737.291016             360.0             1.0   \n",
       "3           0.000000  6419.295974             360.0             1.0   \n",
       "4           9.115065  3052.720470             360.0             1.0   \n",
       "\n",
       "  Property_Area Loan_Status  \n",
       "0         Rural           N  \n",
       "1         Urban           Y  \n",
       "2         Urban           Y  \n",
       "3         Urban           Y  \n",
       "4         Urban           Y  "
      ]
     },
     "execution_count": 389,
     "metadata": {},
     "output_type": "execute_result"
    }
   ],
   "source": [
    "df.head()"
   ]
  },
  {
   "cell_type": "markdown",
   "metadata": {},
   "source": [
    "# Manually specify the order mapping\n",
    "\n"
   ]
  },
  {
   "cell_type": "code",
   "execution_count": null,
   "metadata": {},
   "outputs": [],
   "source": [
    "from sklearn.preprocessing import OrdinalEncoder\n",
    "\n",
    "\n",
    "order_mapping = [['Graduate','Not Graduate' ]]\n",
    "\n",
    "\n",
    "encoder = OrdinalEncoder(categories=order_mapping)\n",
    "encoded_data = encoder.fit_transform(df[['Education']])\n",
    "df['Education_Encoded'] = encoded_data"
   ]
  },
  {
   "cell_type": "code",
   "execution_count": 398,
   "metadata": {},
   "outputs": [
    {
     "data": {
      "text/plain": [
       "['Graduate', 'Not Graduate']"
      ]
     },
     "execution_count": 398,
     "metadata": {},
     "output_type": "execute_result"
    }
   ],
   "source": [
    "df.Education.unique().tolist()"
   ]
  },
  {
   "cell_type": "code",
   "execution_count": 400,
   "metadata": {},
   "outputs": [
    {
     "data": {
      "text/html": [
       "<div>\n",
       "<style scoped>\n",
       "    .dataframe tbody tr th:only-of-type {\n",
       "        vertical-align: middle;\n",
       "    }\n",
       "\n",
       "    .dataframe tbody tr th {\n",
       "        vertical-align: top;\n",
       "    }\n",
       "\n",
       "    .dataframe thead th {\n",
       "        text-align: right;\n",
       "    }\n",
       "</style>\n",
       "<table border=\"1\" class=\"dataframe\">\n",
       "  <thead>\n",
       "    <tr style=\"text-align: right;\">\n",
       "      <th></th>\n",
       "      <th>Gender</th>\n",
       "      <th>Married</th>\n",
       "      <th>Dependents</th>\n",
       "      <th>Education</th>\n",
       "      <th>Self_Employed</th>\n",
       "      <th>ApplicantIncome</th>\n",
       "      <th>CoapplicantIncome</th>\n",
       "      <th>LoanAmount</th>\n",
       "      <th>Loan_Amount_Term</th>\n",
       "      <th>Credit_History</th>\n",
       "      <th>Property_Area</th>\n",
       "      <th>Loan_Status</th>\n",
       "      <th>Education_Encoded</th>\n",
       "    </tr>\n",
       "  </thead>\n",
       "  <tbody>\n",
       "    <tr>\n",
       "      <th>0</th>\n",
       "      <td>Male</td>\n",
       "      <td>Yes</td>\n",
       "      <td>1</td>\n",
       "      <td>Graduate</td>\n",
       "      <td>No</td>\n",
       "      <td>219.563905</td>\n",
       "      <td>9.106998</td>\n",
       "      <td>5349.577027</td>\n",
       "      <td>360.0</td>\n",
       "      <td>1.0</td>\n",
       "      <td>Rural</td>\n",
       "      <td>N</td>\n",
       "      <td>0.0</td>\n",
       "    </tr>\n",
       "    <tr>\n",
       "      <th>1</th>\n",
       "      <td>Male</td>\n",
       "      <td>Yes</td>\n",
       "      <td>0</td>\n",
       "      <td>Graduate</td>\n",
       "      <td>Yes</td>\n",
       "      <td>171.735018</td>\n",
       "      <td>0.000000</td>\n",
       "      <td>1542.019280</td>\n",
       "      <td>360.0</td>\n",
       "      <td>1.0</td>\n",
       "      <td>Urban</td>\n",
       "      <td>Y</td>\n",
       "      <td>0.0</td>\n",
       "    </tr>\n",
       "    <tr>\n",
       "      <th>2</th>\n",
       "      <td>Male</td>\n",
       "      <td>Yes</td>\n",
       "      <td>0</td>\n",
       "      <td>Not Graduate</td>\n",
       "      <td>No</td>\n",
       "      <td>157.440460</td>\n",
       "      <td>9.797386</td>\n",
       "      <td>4737.291016</td>\n",
       "      <td>360.0</td>\n",
       "      <td>1.0</td>\n",
       "      <td>Urban</td>\n",
       "      <td>Y</td>\n",
       "      <td>1.0</td>\n",
       "    </tr>\n",
       "    <tr>\n",
       "      <th>3</th>\n",
       "      <td>Male</td>\n",
       "      <td>No</td>\n",
       "      <td>0</td>\n",
       "      <td>Graduate</td>\n",
       "      <td>No</td>\n",
       "      <td>256.622463</td>\n",
       "      <td>0.000000</td>\n",
       "      <td>6419.295974</td>\n",
       "      <td>360.0</td>\n",
       "      <td>1.0</td>\n",
       "      <td>Urban</td>\n",
       "      <td>Y</td>\n",
       "      <td>0.0</td>\n",
       "    </tr>\n",
       "    <tr>\n",
       "      <th>4</th>\n",
       "      <td>Male</td>\n",
       "      <td>Yes</td>\n",
       "      <td>0</td>\n",
       "      <td>Not Graduate</td>\n",
       "      <td>No</td>\n",
       "      <td>148.397129</td>\n",
       "      <td>9.115065</td>\n",
       "      <td>3052.720470</td>\n",
       "      <td>360.0</td>\n",
       "      <td>1.0</td>\n",
       "      <td>Urban</td>\n",
       "      <td>Y</td>\n",
       "      <td>1.0</td>\n",
       "    </tr>\n",
       "  </tbody>\n",
       "</table>\n",
       "</div>"
      ],
      "text/plain": [
       "  Gender Married Dependents     Education Self_Employed  ApplicantIncome  \\\n",
       "0   Male     Yes          1      Graduate            No       219.563905   \n",
       "1   Male     Yes          0      Graduate           Yes       171.735018   \n",
       "2   Male     Yes          0  Not Graduate            No       157.440460   \n",
       "3   Male      No          0      Graduate            No       256.622463   \n",
       "4   Male     Yes          0  Not Graduate            No       148.397129   \n",
       "\n",
       "   CoapplicantIncome   LoanAmount  Loan_Amount_Term  Credit_History  \\\n",
       "0           9.106998  5349.577027             360.0             1.0   \n",
       "1           0.000000  1542.019280             360.0             1.0   \n",
       "2           9.797386  4737.291016             360.0             1.0   \n",
       "3           0.000000  6419.295974             360.0             1.0   \n",
       "4           9.115065  3052.720470             360.0             1.0   \n",
       "\n",
       "  Property_Area Loan_Status  Education_Encoded  \n",
       "0         Rural           N                0.0  \n",
       "1         Urban           Y                0.0  \n",
       "2         Urban           Y                1.0  \n",
       "3         Urban           Y                0.0  \n",
       "4         Urban           Y                1.0  "
      ]
     },
     "execution_count": 400,
     "metadata": {},
     "output_type": "execute_result"
    }
   ],
   "source": [
    "df.head()"
   ]
  },
  {
   "cell_type": "markdown",
   "metadata": {},
   "source": [
    "# deleting the education column"
   ]
  },
  {
   "cell_type": "code",
   "execution_count": 402,
   "metadata": {},
   "outputs": [],
   "source": [
    "df = df.drop('Education' , axis = 1)"
   ]
  },
  {
   "cell_type": "code",
   "execution_count": 404,
   "metadata": {},
   "outputs": [
    {
     "data": {
      "text/html": [
       "<div>\n",
       "<style scoped>\n",
       "    .dataframe tbody tr th:only-of-type {\n",
       "        vertical-align: middle;\n",
       "    }\n",
       "\n",
       "    .dataframe tbody tr th {\n",
       "        vertical-align: top;\n",
       "    }\n",
       "\n",
       "    .dataframe thead th {\n",
       "        text-align: right;\n",
       "    }\n",
       "</style>\n",
       "<table border=\"1\" class=\"dataframe\">\n",
       "  <thead>\n",
       "    <tr style=\"text-align: right;\">\n",
       "      <th></th>\n",
       "      <th>Gender</th>\n",
       "      <th>Married</th>\n",
       "      <th>Dependents</th>\n",
       "      <th>Self_Employed</th>\n",
       "      <th>ApplicantIncome</th>\n",
       "      <th>CoapplicantIncome</th>\n",
       "      <th>LoanAmount</th>\n",
       "      <th>Loan_Amount_Term</th>\n",
       "      <th>Credit_History</th>\n",
       "      <th>Property_Area</th>\n",
       "      <th>Loan_Status</th>\n",
       "      <th>Education_Encoded</th>\n",
       "    </tr>\n",
       "  </thead>\n",
       "  <tbody>\n",
       "    <tr>\n",
       "      <th>0</th>\n",
       "      <td>Male</td>\n",
       "      <td>Yes</td>\n",
       "      <td>1</td>\n",
       "      <td>No</td>\n",
       "      <td>219.563905</td>\n",
       "      <td>9.106998</td>\n",
       "      <td>5349.577027</td>\n",
       "      <td>360.0</td>\n",
       "      <td>1.0</td>\n",
       "      <td>Rural</td>\n",
       "      <td>N</td>\n",
       "      <td>0.0</td>\n",
       "    </tr>\n",
       "    <tr>\n",
       "      <th>1</th>\n",
       "      <td>Male</td>\n",
       "      <td>Yes</td>\n",
       "      <td>0</td>\n",
       "      <td>Yes</td>\n",
       "      <td>171.735018</td>\n",
       "      <td>0.000000</td>\n",
       "      <td>1542.019280</td>\n",
       "      <td>360.0</td>\n",
       "      <td>1.0</td>\n",
       "      <td>Urban</td>\n",
       "      <td>Y</td>\n",
       "      <td>0.0</td>\n",
       "    </tr>\n",
       "    <tr>\n",
       "      <th>2</th>\n",
       "      <td>Male</td>\n",
       "      <td>Yes</td>\n",
       "      <td>0</td>\n",
       "      <td>No</td>\n",
       "      <td>157.440460</td>\n",
       "      <td>9.797386</td>\n",
       "      <td>4737.291016</td>\n",
       "      <td>360.0</td>\n",
       "      <td>1.0</td>\n",
       "      <td>Urban</td>\n",
       "      <td>Y</td>\n",
       "      <td>1.0</td>\n",
       "    </tr>\n",
       "    <tr>\n",
       "      <th>3</th>\n",
       "      <td>Male</td>\n",
       "      <td>No</td>\n",
       "      <td>0</td>\n",
       "      <td>No</td>\n",
       "      <td>256.622463</td>\n",
       "      <td>0.000000</td>\n",
       "      <td>6419.295974</td>\n",
       "      <td>360.0</td>\n",
       "      <td>1.0</td>\n",
       "      <td>Urban</td>\n",
       "      <td>Y</td>\n",
       "      <td>0.0</td>\n",
       "    </tr>\n",
       "    <tr>\n",
       "      <th>4</th>\n",
       "      <td>Male</td>\n",
       "      <td>Yes</td>\n",
       "      <td>0</td>\n",
       "      <td>No</td>\n",
       "      <td>148.397129</td>\n",
       "      <td>9.115065</td>\n",
       "      <td>3052.720470</td>\n",
       "      <td>360.0</td>\n",
       "      <td>1.0</td>\n",
       "      <td>Urban</td>\n",
       "      <td>Y</td>\n",
       "      <td>1.0</td>\n",
       "    </tr>\n",
       "  </tbody>\n",
       "</table>\n",
       "</div>"
      ],
      "text/plain": [
       "  Gender Married Dependents Self_Employed  ApplicantIncome  CoapplicantIncome  \\\n",
       "0   Male     Yes          1            No       219.563905           9.106998   \n",
       "1   Male     Yes          0           Yes       171.735018           0.000000   \n",
       "2   Male     Yes          0            No       157.440460           9.797386   \n",
       "3   Male      No          0            No       256.622463           0.000000   \n",
       "4   Male     Yes          0            No       148.397129           9.115065   \n",
       "\n",
       "    LoanAmount  Loan_Amount_Term  Credit_History Property_Area Loan_Status  \\\n",
       "0  5349.577027             360.0             1.0         Rural           N   \n",
       "1  1542.019280             360.0             1.0         Urban           Y   \n",
       "2  4737.291016             360.0             1.0         Urban           Y   \n",
       "3  6419.295974             360.0             1.0         Urban           Y   \n",
       "4  3052.720470             360.0             1.0         Urban           Y   \n",
       "\n",
       "   Education_Encoded  \n",
       "0                0.0  \n",
       "1                0.0  \n",
       "2                1.0  \n",
       "3                0.0  \n",
       "4                1.0  "
      ]
     },
     "execution_count": 404,
     "metadata": {},
     "output_type": "execute_result"
    }
   ],
   "source": [
    "df.head()"
   ]
  },
  {
   "cell_type": "code",
   "execution_count": 406,
   "metadata": {},
   "outputs": [],
   "source": [
    "\n",
    "order_mapping = [['Rural','Semiurban','Urban' ]]\n",
    "\n",
    "encoder = OrdinalEncoder(categories=order_mapping)\n",
    "encoded_data = encoder.fit_transform(df[['Property_Area']])\n",
    "df['Property_encoded'] = encoded_data"
   ]
  },
  {
   "cell_type": "code",
   "execution_count": 408,
   "metadata": {},
   "outputs": [
    {
     "data": {
      "text/plain": [
       "['Rural', 'Urban', 'Semiurban']"
      ]
     },
     "execution_count": 408,
     "metadata": {},
     "output_type": "execute_result"
    }
   ],
   "source": [
    "df.Property_Area.unique().tolist()"
   ]
  },
  {
   "cell_type": "code",
   "execution_count": 410,
   "metadata": {},
   "outputs": [],
   "source": [
    "df = df.drop('Property_Area' , axis =1)"
   ]
  },
  {
   "cell_type": "code",
   "execution_count": 412,
   "metadata": {},
   "outputs": [
    {
     "data": {
      "text/html": [
       "<div>\n",
       "<style scoped>\n",
       "    .dataframe tbody tr th:only-of-type {\n",
       "        vertical-align: middle;\n",
       "    }\n",
       "\n",
       "    .dataframe tbody tr th {\n",
       "        vertical-align: top;\n",
       "    }\n",
       "\n",
       "    .dataframe thead th {\n",
       "        text-align: right;\n",
       "    }\n",
       "</style>\n",
       "<table border=\"1\" class=\"dataframe\">\n",
       "  <thead>\n",
       "    <tr style=\"text-align: right;\">\n",
       "      <th></th>\n",
       "      <th>Gender</th>\n",
       "      <th>Married</th>\n",
       "      <th>Dependents</th>\n",
       "      <th>Self_Employed</th>\n",
       "      <th>ApplicantIncome</th>\n",
       "      <th>CoapplicantIncome</th>\n",
       "      <th>LoanAmount</th>\n",
       "      <th>Loan_Amount_Term</th>\n",
       "      <th>Credit_History</th>\n",
       "      <th>Loan_Status</th>\n",
       "      <th>Education_Encoded</th>\n",
       "      <th>Property_encoded</th>\n",
       "    </tr>\n",
       "  </thead>\n",
       "  <tbody>\n",
       "    <tr>\n",
       "      <th>0</th>\n",
       "      <td>Male</td>\n",
       "      <td>Yes</td>\n",
       "      <td>1</td>\n",
       "      <td>No</td>\n",
       "      <td>219.563905</td>\n",
       "      <td>9.106998</td>\n",
       "      <td>5349.577027</td>\n",
       "      <td>360.0</td>\n",
       "      <td>1.0</td>\n",
       "      <td>N</td>\n",
       "      <td>0.0</td>\n",
       "      <td>0.0</td>\n",
       "    </tr>\n",
       "    <tr>\n",
       "      <th>1</th>\n",
       "      <td>Male</td>\n",
       "      <td>Yes</td>\n",
       "      <td>0</td>\n",
       "      <td>Yes</td>\n",
       "      <td>171.735018</td>\n",
       "      <td>0.000000</td>\n",
       "      <td>1542.019280</td>\n",
       "      <td>360.0</td>\n",
       "      <td>1.0</td>\n",
       "      <td>Y</td>\n",
       "      <td>0.0</td>\n",
       "      <td>2.0</td>\n",
       "    </tr>\n",
       "    <tr>\n",
       "      <th>2</th>\n",
       "      <td>Male</td>\n",
       "      <td>Yes</td>\n",
       "      <td>0</td>\n",
       "      <td>No</td>\n",
       "      <td>157.440460</td>\n",
       "      <td>9.797386</td>\n",
       "      <td>4737.291016</td>\n",
       "      <td>360.0</td>\n",
       "      <td>1.0</td>\n",
       "      <td>Y</td>\n",
       "      <td>1.0</td>\n",
       "      <td>2.0</td>\n",
       "    </tr>\n",
       "    <tr>\n",
       "      <th>3</th>\n",
       "      <td>Male</td>\n",
       "      <td>No</td>\n",
       "      <td>0</td>\n",
       "      <td>No</td>\n",
       "      <td>256.622463</td>\n",
       "      <td>0.000000</td>\n",
       "      <td>6419.295974</td>\n",
       "      <td>360.0</td>\n",
       "      <td>1.0</td>\n",
       "      <td>Y</td>\n",
       "      <td>0.0</td>\n",
       "      <td>2.0</td>\n",
       "    </tr>\n",
       "    <tr>\n",
       "      <th>4</th>\n",
       "      <td>Male</td>\n",
       "      <td>Yes</td>\n",
       "      <td>0</td>\n",
       "      <td>No</td>\n",
       "      <td>148.397129</td>\n",
       "      <td>9.115065</td>\n",
       "      <td>3052.720470</td>\n",
       "      <td>360.0</td>\n",
       "      <td>1.0</td>\n",
       "      <td>Y</td>\n",
       "      <td>1.0</td>\n",
       "      <td>2.0</td>\n",
       "    </tr>\n",
       "  </tbody>\n",
       "</table>\n",
       "</div>"
      ],
      "text/plain": [
       "  Gender Married Dependents Self_Employed  ApplicantIncome  CoapplicantIncome  \\\n",
       "0   Male     Yes          1            No       219.563905           9.106998   \n",
       "1   Male     Yes          0           Yes       171.735018           0.000000   \n",
       "2   Male     Yes          0            No       157.440460           9.797386   \n",
       "3   Male      No          0            No       256.622463           0.000000   \n",
       "4   Male     Yes          0            No       148.397129           9.115065   \n",
       "\n",
       "    LoanAmount  Loan_Amount_Term  Credit_History Loan_Status  \\\n",
       "0  5349.577027             360.0             1.0           N   \n",
       "1  1542.019280             360.0             1.0           Y   \n",
       "2  4737.291016             360.0             1.0           Y   \n",
       "3  6419.295974             360.0             1.0           Y   \n",
       "4  3052.720470             360.0             1.0           Y   \n",
       "\n",
       "   Education_Encoded  Property_encoded  \n",
       "0                0.0               0.0  \n",
       "1                0.0               2.0  \n",
       "2                1.0               2.0  \n",
       "3                0.0               2.0  \n",
       "4                1.0               2.0  "
      ]
     },
     "execution_count": 412,
     "metadata": {},
     "output_type": "execute_result"
    }
   ],
   "source": [
    "df.head()"
   ]
  },
  {
   "cell_type": "markdown",
   "metadata": {},
   "source": [
    "# enocding data"
   ]
  },
  {
   "cell_type": "code",
   "execution_count": 414,
   "metadata": {},
   "outputs": [],
   "source": [
    "\n",
    "order_mapping = [['0', '1', '2' , '3+' ]]\n",
    "\n",
    "encoder = OrdinalEncoder(categories=order_mapping)\n",
    "encoded_data = encoder.fit_transform(df[['Dependents']])\n",
    "df['Dependents_encoded'] = encoded_data"
   ]
  },
  {
   "cell_type": "markdown",
   "metadata": {},
   "source": [
    "# listingout unique values"
   ]
  },
  {
   "cell_type": "code",
   "execution_count": 416,
   "metadata": {},
   "outputs": [
    {
     "data": {
      "text/plain": [
       "['1', '0', '2', '3+']"
      ]
     },
     "execution_count": 416,
     "metadata": {},
     "output_type": "execute_result"
    }
   ],
   "source": [
    "df.Dependents.unique().tolist()"
   ]
  },
  {
   "cell_type": "markdown",
   "metadata": {},
   "source": [
    "# removing the dependents column"
   ]
  },
  {
   "cell_type": "code",
   "execution_count": 418,
   "metadata": {},
   "outputs": [],
   "source": [
    "df = df.drop('Dependents' , axis = 1)"
   ]
  },
  {
   "cell_type": "code",
   "execution_count": 420,
   "metadata": {},
   "outputs": [
    {
     "name": "stdout",
     "output_type": "stream",
     "text": [
      "<class 'pandas.core.frame.DataFrame'>\n",
      "RangeIndex: 381 entries, 0 to 380\n",
      "Data columns (total 12 columns):\n",
      " #   Column              Non-Null Count  Dtype  \n",
      "---  ------              --------------  -----  \n",
      " 0   Gender              381 non-null    object \n",
      " 1   Married             381 non-null    object \n",
      " 2   Self_Employed       381 non-null    object \n",
      " 3   ApplicantIncome     381 non-null    float64\n",
      " 4   CoapplicantIncome   381 non-null    float64\n",
      " 5   LoanAmount          381 non-null    float64\n",
      " 6   Loan_Amount_Term    381 non-null    float64\n",
      " 7   Credit_History      381 non-null    float64\n",
      " 8   Loan_Status         381 non-null    object \n",
      " 9   Education_Encoded   381 non-null    float64\n",
      " 10  Property_encoded    381 non-null    float64\n",
      " 11  Dependents_encoded  381 non-null    float64\n",
      "dtypes: float64(8), object(4)\n",
      "memory usage: 35.8+ KB\n"
     ]
    }
   ],
   "source": [
    "df.info()"
   ]
  },
  {
   "cell_type": "code",
   "execution_count": 422,
   "metadata": {},
   "outputs": [
    {
     "data": {
      "text/plain": [
       "['N', 'Y']"
      ]
     },
     "execution_count": 422,
     "metadata": {},
     "output_type": "execute_result"
    }
   ],
   "source": [
    "df.Loan_Status.unique().tolist()"
   ]
  },
  {
   "cell_type": "markdown",
   "metadata": {},
   "source": [
    "# encoding my data"
   ]
  },
  {
   "cell_type": "code",
   "execution_count": 424,
   "metadata": {},
   "outputs": [],
   "source": [
    "\n",
    "order_mapping = [['N', 'Y']]\n",
    "\n",
    "encoder = OrdinalEncoder(categories=order_mapping)\n",
    "encoded_data = encoder.fit_transform(df[['Loan_Status']])\n",
    "df['Loan_Status_Encoded'] = encoded_data"
   ]
  },
  {
   "cell_type": "markdown",
   "metadata": {},
   "source": [
    "# deleting the loan statu loan column"
   ]
  },
  {
   "cell_type": "code",
   "execution_count": 426,
   "metadata": {},
   "outputs": [],
   "source": [
    "df = df.drop('Loan_Status' , axis = 1)"
   ]
  },
  {
   "cell_type": "code",
   "execution_count": 428,
   "metadata": {},
   "outputs": [
    {
     "name": "stdout",
     "output_type": "stream",
     "text": [
      "\n",
      " mappings:\n",
      "\n",
      "Gender:\n",
      " {'Female': 0, 'Male': 1}\n",
      "\n",
      "Married:\n",
      " {'No': 0, 'Yes': 1}\n",
      "\n",
      "Self_Employed:\n",
      " {'No': 0, 'Yes': 1}\n",
      "\n"
     ]
    }
   ],
   "source": [
    "encoder = {}\n",
    "mappings = {}\n",
    "from sklearn.preprocessing import LabelEncoder\n",
    "for col in df.select_dtypes(include = 'object').columns:\n",
    "    encoder[col] = LabelEncoder()\n",
    "    df[col] =encoder[col].fit_transform(df[col])\n",
    "    \n",
    "    mappings[col] = dict(zip(encoder[col].classes_, range(len(encoder[col].classes_))))\n",
    "\n",
    "print(\"\\n mappings:\\n\")\n",
    "\n",
    "for col, mapping in mappings.items():\n",
    "    print(f\"{col}:\\n {mapping}\\n\")\n",
    "\n"
   ]
  },
  {
   "cell_type": "markdown",
   "metadata": {},
   "source": [
    "# showing the  summary of data"
   ]
  },
  {
   "cell_type": "code",
   "execution_count": 430,
   "metadata": {},
   "outputs": [
    {
     "name": "stdout",
     "output_type": "stream",
     "text": [
      "<class 'pandas.core.frame.DataFrame'>\n",
      "RangeIndex: 381 entries, 0 to 380\n",
      "Data columns (total 12 columns):\n",
      " #   Column               Non-Null Count  Dtype  \n",
      "---  ------               --------------  -----  \n",
      " 0   Gender               381 non-null    int32  \n",
      " 1   Married              381 non-null    int32  \n",
      " 2   Self_Employed        381 non-null    int32  \n",
      " 3   ApplicantIncome      381 non-null    float64\n",
      " 4   CoapplicantIncome    381 non-null    float64\n",
      " 5   LoanAmount           381 non-null    float64\n",
      " 6   Loan_Amount_Term     381 non-null    float64\n",
      " 7   Credit_History       381 non-null    float64\n",
      " 8   Education_Encoded    381 non-null    float64\n",
      " 9   Property_encoded     381 non-null    float64\n",
      " 10  Dependents_encoded   381 non-null    float64\n",
      " 11  Loan_Status_Encoded  381 non-null    float64\n",
      "dtypes: float64(9), int32(3)\n",
      "memory usage: 31.4 KB\n"
     ]
    }
   ],
   "source": [
    "df.info()"
   ]
  },
  {
   "cell_type": "markdown",
   "metadata": {},
   "source": [
    "# Plot the correlation matrix as a heatmap"
   ]
  },
  {
   "cell_type": "markdown",
   "metadata": {},
   "source": [
    "# deleting the Loan_Amount_Term and Credit_History column"
   ]
  },
  {
   "cell_type": "code",
   "execution_count": 434,
   "metadata": {},
   "outputs": [],
   "source": [
    "df = df.drop(columns = ['Loan_Amount_Term','Credit_History'])"
   ]
  },
  {
   "cell_type": "code",
   "execution_count": 436,
   "metadata": {},
   "outputs": [
    {
     "data": {
      "text/plain": [
       "<Axes: >"
      ]
     },
     "execution_count": 436,
     "metadata": {},
     "output_type": "execute_result"
    },
    {
     "data": {
      "image/png": "[encoded data removed]",
      "text/plain": [
       "<Figure size 1300x1300 with 2 Axes>"
      ]
     },
     "metadata": {},
     "output_type": "display_data"
    }
   ],
   "source": [
    "plt.figure(figsize = (13, 13))\n",
    "#\n",
    "sns.heatmap(df.corr(), annot=True, cmap='RdYlGn', center=0, square=True, fmt =\".2f\")"
   ]
  },
  {
   "cell_type": "markdown",
   "metadata": {},
   "source": [
    "# saving our cleaned  dataset  a set to a new file"
   ]
  },
  {
   "cell_type": "code",
   "execution_count": 438,
   "metadata": {},
   "outputs": [],
   "source": [
    "df.to_csv(\"Cleaned Bank Data.csv\", index = False)"
   ]
  },
  {
   "cell_type": "code",
   "execution_count": 440,
   "metadata": {},
   "outputs": [
    {
     "name": "stdout",
     "output_type": "stream",
     "text": [
      "<class 'pandas.core.frame.DataFrame'>\n",
      "RangeIndex: 381 entries, 0 to 380\n",
      "Data columns (total 10 columns):\n",
      " #   Column               Non-Null Count  Dtype  \n",
      "---  ------               --------------  -----  \n",
      " 0   Gender               381 non-null    int32  \n",
      " 1   Married              381 non-null    int32  \n",
      " 2   Self_Employed        381 non-null    int32  \n",
      " 3   ApplicantIncome      381 non-null    float64\n",
      " 4   CoapplicantIncome    381 non-null    float64\n",
      " 5   LoanAmount           381 non-null    float64\n",
      " 6   Education_Encoded    381 non-null    float64\n",
      " 7   Property_encoded     381 non-null    float64\n",
      " 8   Dependents_encoded   381 non-null    float64\n",
      " 9   Loan_Status_Encoded  381 non-null    float64\n",
      "dtypes: float64(7), int32(3)\n",
      "memory usage: 25.4 KB\n"
     ]
    }
   ],
   "source": [
    "df.info()\n"
   ]
  },
  {
   "cell_type": "markdown",
   "metadata": {},
   "source": [
    "# performing regression analysis on worked data"
   ]
  },
  {
   "cell_type": "code",
   "execution_count": 462,
   "metadata": {},
   "outputs": [],
   "source": [
    "y = df['Loan_Status_Encoded']"
   ]
  },
  {
   "cell_type": "code",
   "execution_count": 466,
   "metadata": {},
   "outputs": [],
   "source": [
    "\n",
    "X = df.drop(\"Loan_Status_Encoded\", axis=1)"
   ]
  },
  {
   "cell_type": "code",
   "execution_count": 468,
   "metadata": {},
   "outputs": [
    {
     "name": "stdout",
     "output_type": "stream",
     "text": [
      "<class 'pandas.core.frame.DataFrame'>\n",
      "RangeIndex: 381 entries, 0 to 380\n",
      "Data columns (total 9 columns):\n",
      " #   Column              Non-Null Count  Dtype  \n",
      "---  ------              --------------  -----  \n",
      " 0   Gender              381 non-null    int32  \n",
      " 1   Married             381 non-null    int32  \n",
      " 2   Self_Employed       381 non-null    int32  \n",
      " 3   ApplicantIncome     381 non-null    float64\n",
      " 4   CoapplicantIncome   381 non-null    float64\n",
      " 5   LoanAmount          381 non-null    float64\n",
      " 6   Education_Encoded   381 non-null    float64\n",
      " 7   Property_encoded    381 non-null    float64\n",
      " 8   Dependents_encoded  381 non-null    float64\n",
      "dtypes: float64(6), int32(3)\n",
      "memory usage: 22.5 KB\n"
     ]
    }
   ],
   "source": [
    "x.info()"
   ]
  },
  {
   "cell_type": "markdown",
   "metadata": {},
   "source": [
    "# Splitting the data into training and testing sets"
   ]
  },
  {
   "cell_type": "code",
   "execution_count": null,
   "metadata": {},
   "outputs": [],
   "source": [
    "from sklearn.model_selection import train_test_split\n",
    "\n",
    "# Splitting the data into training and testing sets\n",
    "X_train, X_test, y_train, y_test = train_test_split(X, y, test_size=0.2, random_state=42)\n"
   ]
  },
  {
   "cell_type": "code",
   "execution_count": 472,
   "metadata": {},
   "outputs": [
    {
     "data": {
      "text/plain": [
       "(304, 9)"
      ]
     },
     "execution_count": 472,
     "metadata": {},
     "output_type": "execute_result"
    }
   ],
   "source": [
    "X_train.shape"
   ]
  },
  {
   "cell_type": "code",
   "execution_count": 474,
   "metadata": {},
   "outputs": [
    {
     "data": {
      "text/plain": [
       "(77, 9)"
      ]
     },
     "execution_count": 474,
     "metadata": {},
     "output_type": "execute_result"
    }
   ],
   "source": [
    "X_test.shape"
   ]
  },
  {
   "cell_type": "markdown",
   "metadata": {},
   "source": [
    "# Creating an instance of the Logistic Regression model\n",
    "# Training the model on the training data"
   ]
  },
  {
   "cell_type": "code",
   "execution_count": null,
   "metadata": {},
   "outputs": [],
   "source": [
    "from sklearn.linear_model import LogisticRegression\n",
    "\n",
    "model = LogisticRegression()\n",
    "\n",
    "\n",
    "model.fit(X_train, y_train)"
   ]
  },
  {
   "cell_type": "markdown",
   "metadata": {},
   "source": [
    "# Making predictions on the test data"
   ]
  },
  {
   "cell_type": "code",
   "execution_count": null,
   "metadata": {},
   "outputs": [],
   "source": [
    "\n",
    "y_pred = model.predict(X_train)\n",
    "y_pred_test = model.predict(X_test)"
   ]
  },
  {
   "cell_type": "markdown",
   "metadata": {},
   "source": [
    "# Evaluating the model's accuracy for train"
   ]
  },
  {
   "cell_type": "code",
   "execution_count": null,
   "metadata": {},
   "outputs": [],
   "source": [
    "from sklearn.metrics import accuracy_score\n",
    "\n",
    "accuracy = accuracy_score(y_train, y_pred)\n",
    "print(\"Train Accuracy:\", accuracy)"
   ]
  },
  {
   "cell_type": "markdown",
   "metadata": {},
   "source": [
    "# Evaluating model accuracy for test"
   ]
  },
  {
   "cell_type": "code",
   "execution_count": null,
   "metadata": {},
   "outputs": [],
   "source": [
    "\n",
    "from sklearn.metrics import accuracy_score\n",
    "\n",
    "accuracy = accuracy_score(y_test, y_pred_test)\n",
    "print(\"Test Accuracy:\", accuracy)"
   ]
  },
  {
   "cell_type": "code",
   "execution_count": 484,
   "metadata": {},
   "outputs": [],
   "source": [
    "from sklearn.metrics import confusion_matrix\n",
    "cm = confusion_matrix(y_test, y_pred_test)"
   ]
  },
  {
   "cell_type": "code",
   "execution_count": 486,
   "metadata": {},
   "outputs": [
    {
     "data": {
      "image/png": "[encoded data removed]",
      "text/plain": [
       "<Figure size 800x600 with 2 Axes>"
      ]
     },
     "metadata": {},
     "output_type": "display_data"
    }
   ],
   "source": [
    "\n",
    "\n",
    "plt.figure(figsize=(8, 6))\n",
    "sns.heatmap(cm, annot=True, fmt=\".2f\", cmap=\"Blues\")\n",
    "plt.xlabel(\"Predicted Labels\")\n",
    "plt.ylabel(\"True Labels\")\n",
    "plt.title(\"Confusion Matrix\")\n",
    "\n",
    "plt.show()"
   ]
  },
  {
   "cell_type": "markdown",
   "metadata": {},
   "source": [
    "# Save train and test data separatel"
   ]
  },
  {
   "cell_type": "code",
   "execution_count": null,
   "metadata": {},
   "outputs": [],
   "source": [
    "train_data = pd.concat([X_train, y_train], axis=1)\n",
    "test_data = pd.concat([X_test, y_test], axis=1)\n",
    "\n",
    "train_data.to_csv('train_data.csv', index=False)\n",
    "test_data.to_csv('test_data.csv', index=False)"
   ]
  },
  {
   "cell_type": "code",
   "execution_count": null,
   "metadata": {},
   "outputs": [],
   "source": []
  }
 ],
 "metadata": {
  "kernelspec": {
   "display_name": "Python 3",
   "language": "python",
   "name": "python3"
  },
  "language_info": {
   "codemirror_mode": {
    "name": "ipython",
    "version": 3
   },
   "file_extension": ".py",
   "mimetype": "text/x-python",
   "name": "python",
   "nbconvert_exporter": "python",
   "pygments_lexer": "ipython3",
   "version": "3.7.3"
  }
 },
 "nbformat": 4,
 "nbformat_minor": 5
}
